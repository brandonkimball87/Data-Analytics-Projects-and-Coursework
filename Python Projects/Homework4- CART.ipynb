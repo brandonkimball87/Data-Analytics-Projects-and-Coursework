{
 "cells": [
  {
   "cell_type": "code",
   "execution_count": 76,
   "id": "2c81a9bf",
   "metadata": {},
   "outputs": [],
   "source": [
    "import pandas as pd\n",
    "import numpy as np\n",
    "import matplotlib.pyplot as plt"
   ]
  },
  {
   "cell_type": "markdown",
   "id": "08c14d91",
   "metadata": {},
   "source": [
    "# Linear Regression Tree Question 1"
   ]
  },
  {
   "cell_type": "code",
   "execution_count": 87,
   "id": "45744830",
   "metadata": {},
   "outputs": [
    {
     "data": {
      "text/html": [
       "<div>\n",
       "<style scoped>\n",
       "    .dataframe tbody tr th:only-of-type {\n",
       "        vertical-align: middle;\n",
       "    }\n",
       "\n",
       "    .dataframe tbody tr th {\n",
       "        vertical-align: top;\n",
       "    }\n",
       "\n",
       "    .dataframe thead th {\n",
       "        text-align: right;\n",
       "    }\n",
       "</style>\n",
       "<table border=\"1\" class=\"dataframe\">\n",
       "  <thead>\n",
       "    <tr style=\"text-align: right;\">\n",
       "      <th></th>\n",
       "      <th>Bush</th>\n",
       "      <th>UnE</th>\n",
       "      <th>Pop</th>\n",
       "      <th>Male</th>\n",
       "      <th>Male18</th>\n",
       "      <th>Pop65</th>\n",
       "      <th>NonMet</th>\n",
       "      <th>Pov</th>\n",
       "      <th>NuHouse</th>\n",
       "      <th>Inc50</th>\n",
       "      <th>Inc75</th>\n",
       "      <th>Inc100</th>\n",
       "    </tr>\n",
       "  </thead>\n",
       "  <tbody>\n",
       "    <tr>\n",
       "      <th>0</th>\n",
       "      <td>56.47</td>\n",
       "      <td>4.6</td>\n",
       "      <td>4447100</td>\n",
       "      <td>48.27</td>\n",
       "      <td>47.26</td>\n",
       "      <td>13.0</td>\n",
       "      <td>32.68</td>\n",
       "      <td>16.1</td>\n",
       "      <td>1472906</td>\n",
       "      <td>14.3</td>\n",
       "      <td>4.3</td>\n",
       "      <td>2.0</td>\n",
       "    </tr>\n",
       "    <tr>\n",
       "      <th>1</th>\n",
       "      <td>58.62</td>\n",
       "      <td>6.6</td>\n",
       "      <td>626932</td>\n",
       "      <td>51.69</td>\n",
       "      <td>51.83</td>\n",
       "      <td>5.7</td>\n",
       "      <td>58.48</td>\n",
       "      <td>9.4</td>\n",
       "      <td>85359</td>\n",
       "      <td>36.3</td>\n",
       "      <td>16.8</td>\n",
       "      <td>6.9</td>\n",
       "    </tr>\n",
       "    <tr>\n",
       "      <th>2</th>\n",
       "      <td>51.02</td>\n",
       "      <td>3.9</td>\n",
       "      <td>5130632</td>\n",
       "      <td>49.92</td>\n",
       "      <td>49.42</td>\n",
       "      <td>13.0</td>\n",
       "      <td>14.03</td>\n",
       "      <td>13.9</td>\n",
       "      <td>1571330</td>\n",
       "      <td>11.0</td>\n",
       "      <td>4.2</td>\n",
       "      <td>1.8</td>\n",
       "    </tr>\n",
       "    <tr>\n",
       "      <th>3</th>\n",
       "      <td>51.31</td>\n",
       "      <td>4.4</td>\n",
       "      <td>2673400</td>\n",
       "      <td>48.80</td>\n",
       "      <td>47.94</td>\n",
       "      <td>14.0</td>\n",
       "      <td>53.66</td>\n",
       "      <td>15.8</td>\n",
       "      <td>836388</td>\n",
       "      <td>10.0</td>\n",
       "      <td>2.9</td>\n",
       "      <td>1.6</td>\n",
       "    </tr>\n",
       "    <tr>\n",
       "      <th>4</th>\n",
       "      <td>41.65</td>\n",
       "      <td>4.9</td>\n",
       "      <td>33871648</td>\n",
       "      <td>49.82</td>\n",
       "      <td>49.26</td>\n",
       "      <td>10.6</td>\n",
       "      <td>3.31</td>\n",
       "      <td>14.2</td>\n",
       "      <td>9709296</td>\n",
       "      <td>23.1</td>\n",
       "      <td>10.0</td>\n",
       "      <td>4.4</td>\n",
       "    </tr>\n",
       "  </tbody>\n",
       "</table>\n",
       "</div>"
      ],
      "text/plain": [
       "    Bush  UnE       Pop   Male  Male18  Pop65  NonMet   Pov  NuHouse  Inc50  \\\n",
       "0  56.47  4.6   4447100  48.27   47.26   13.0   32.68  16.1  1472906   14.3   \n",
       "1  58.62  6.6    626932  51.69   51.83    5.7   58.48   9.4    85359   36.3   \n",
       "2  51.02  3.9   5130632  49.92   49.42   13.0   14.03  13.9  1571330   11.0   \n",
       "3  51.31  4.4   2673400  48.80   47.94   14.0   53.66  15.8   836388   10.0   \n",
       "4  41.65  4.9  33871648  49.82   49.26   10.6    3.31  14.2  9709296   23.1   \n",
       "\n",
       "   Inc75  Inc100  \n",
       "0    4.3     2.0  \n",
       "1   16.8     6.9  \n",
       "2    4.2     1.8  \n",
       "3    2.9     1.6  \n",
       "4   10.0     4.4  "
      ]
     },
     "execution_count": 87,
     "metadata": {},
     "output_type": "execute_result"
    }
   ],
   "source": [
    "election = pd.read_csv(\"/Users/brandonk87/Downloads/MSC 641/Tree Methods/election2000-1.csv\")\n",
    "election.head()"
   ]
  },
  {
   "cell_type": "code",
   "execution_count": 88,
   "id": "52fb239a",
   "metadata": {},
   "outputs": [],
   "source": [
    "from sklearn.model_selection import train_test_split\n",
    "y = election[[\"Bush\"]]\n",
    "x = election.iloc[:,1:]\n",
    "x_train, x_test, y_train, y_test = train_test_split(x, y, test_size=0.20, random_state = 13)"
   ]
  },
  {
   "cell_type": "markdown",
   "id": "1a528b98",
   "metadata": {},
   "source": [
    "# Question 2"
   ]
  },
  {
   "cell_type": "code",
   "execution_count": 89,
   "id": "a7bb6532",
   "metadata": {},
   "outputs": [
    {
     "name": "stdout",
     "output_type": "stream",
     "text": [
      "Train MSE: 0.0\n",
      "Test MSE: 60.65663636363636\n"
     ]
    }
   ],
   "source": [
    "from sklearn.tree import DecisionTreeRegressor\n",
    "from sklearn.tree import export_text, plot_tree\n",
    "from sklearn.metrics import mean_squared_error\n",
    "\n",
    "tree = DecisionTreeRegressor(random_state=13)\n",
    "# Defining the decision tree function\n",
    "tree.fit(x_train, y_train)\n",
    "# Applying function to train data\n",
    "\n",
    "pred_train = tree.predict(x_train)\n",
    "print(\"Train MSE:\",mean_squared_error(pred_train,y_train))\n",
    "# Making predictions on train data\n",
    "\n",
    "pred_test = tree.predict(x_test)\n",
    "print(\"Test MSE:\",mean_squared_error(pred_test,y_test))\n",
    "# Making predictions on test data"
   ]
  },
  {
   "cell_type": "markdown",
   "id": "420d3d63",
   "metadata": {},
   "source": [
    "# Question 3"
   ]
  },
  {
   "cell_type": "code",
   "execution_count": 90,
   "id": "af9608de",
   "metadata": {
    "scrolled": true
   },
   "outputs": [],
   "source": [
    "from sklearn.model_selection import KFold, cross_val_score\n",
    "\n",
    "tree_prune = DecisionTreeRegressor(random_state=13)\n",
    "# Define the function\n",
    "path = tree_prune.cost_complexity_pruning_path(x_train,y_train)\n",
    "# this gives only the first alpha values for each batch of alphas\n",
    "## (where the RSS does not changing within each batch)\n",
    "# You want the lower part of each batch becuase you want smallest penalty\n",
    "alphas, impurities = path.ccp_alphas, path.impurities\n",
    "# Defining the alpha values\n",
    "\n",
    "cv_score = []\n",
    "for i in alphas:\n",
    "    tree = DecisionTreeRegressor(random_state=13, ccp_alpha = i)\n",
    "    cv = cross_val_score(tree, x_train, y_train, cv=10, scoring = 'neg_mean_squared_error')\n",
    "    cv_score.append(np.mean(cv))\n",
    "# getting the respestive alphas for each \n",
    "# negative MSE is used and since you want to min MSE, you want to max -MSE"
   ]
  },
  {
   "cell_type": "code",
   "execution_count": 91,
   "id": "d5eb4d5a",
   "metadata": {},
   "outputs": [
    {
     "data": {
      "text/plain": [
       "Text(0, 0.5, 'Negative MSE')"
      ]
     },
     "execution_count": 91,
     "metadata": {},
     "output_type": "execute_result"
    },
    {
     "data": {
      "image/png": "[encoded data removed]",
      "text/plain": [
       "<Figure size 864x432 with 1 Axes>"
      ]
     },
     "metadata": {
      "needs_background": "light"
     },
     "output_type": "display_data"
    }
   ],
   "source": [
    "plt.figure(figsize=(12,6))\n",
    "plt.plot(alphas,cv_score,marker='o')\n",
    "plt.title('10-fold cross validation result')\n",
    "plt.xlabel('cp')\n",
    "plt.ylabel('Negative MSE')"
   ]
  },
  {
   "cell_type": "code",
   "execution_count": 99,
   "id": "4909082d",
   "metadata": {},
   "outputs": [
    {
     "name": "stdout",
     "output_type": "stream",
     "text": [
      "The optimal value of alpha is 1.6579252083333358\n"
     ]
    }
   ],
   "source": [
    "print(\"The optimal value of alpha is\",alphas[np.argmax(cv_score)])"
   ]
  },
  {
   "cell_type": "code",
   "execution_count": 96,
   "id": "6e03895e",
   "metadata": {},
   "outputs": [
    {
     "name": "stdout",
     "output_type": "stream",
     "text": [
      "MSE: 65.11687364141413\n"
     ]
    }
   ],
   "source": [
    "tree2 = DecisionTreeRegressor(random_state=13, \n",
    "                              ccp_alpha = alphas[np.argmax(cv_score)])\n",
    "# This builds the tree based on the optimal alpha level previoulsy determined\n",
    "tree2.fit(x_train, y_train)\n",
    "pred_test = tree2.predict(x_test)\n",
    "print(\"MSE:\",mean_squared_error(pred_test,y_test))"
   ]
  },
  {
   "cell_type": "markdown",
   "id": "1acb3f40",
   "metadata": {},
   "source": [
    "# Logistic Regression Tree Question 1"
   ]
  },
  {
   "cell_type": "code",
   "execution_count": 140,
   "id": "e8013560",
   "metadata": {},
   "outputs": [
    {
     "data": {
      "text/html": [
       "<div>\n",
       "<style scoped>\n",
       "    .dataframe tbody tr th:only-of-type {\n",
       "        vertical-align: middle;\n",
       "    }\n",
       "\n",
       "    .dataframe tbody tr th {\n",
       "        vertical-align: top;\n",
       "    }\n",
       "\n",
       "    .dataframe thead th {\n",
       "        text-align: right;\n",
       "    }\n",
       "</style>\n",
       "<table border=\"1\" class=\"dataframe\">\n",
       "  <thead>\n",
       "    <tr style=\"text-align: right;\">\n",
       "      <th></th>\n",
       "      <th>FYEAR</th>\n",
       "      <th>DLRSN</th>\n",
       "      <th>CUSIP</th>\n",
       "      <th>R1</th>\n",
       "      <th>R2</th>\n",
       "      <th>R3</th>\n",
       "      <th>R4</th>\n",
       "      <th>R5</th>\n",
       "      <th>R6</th>\n",
       "      <th>R7</th>\n",
       "      <th>R8</th>\n",
       "      <th>R9</th>\n",
       "      <th>R10</th>\n",
       "    </tr>\n",
       "  </thead>\n",
       "  <tbody>\n",
       "    <tr>\n",
       "      <th>0</th>\n",
       "      <td>1999</td>\n",
       "      <td>0</td>\n",
       "      <td>36020</td>\n",
       "      <td>0.307139</td>\n",
       "      <td>0.887006</td>\n",
       "      <td>1.647681</td>\n",
       "      <td>-0.199158</td>\n",
       "      <td>1.092964</td>\n",
       "      <td>-0.313289</td>\n",
       "      <td>-0.196793</td>\n",
       "      <td>1.206763</td>\n",
       "      <td>0.282471</td>\n",
       "      <td>0.158896</td>\n",
       "    </tr>\n",
       "    <tr>\n",
       "      <th>1</th>\n",
       "      <td>1999</td>\n",
       "      <td>0</td>\n",
       "      <td>36110</td>\n",
       "      <td>0.760736</td>\n",
       "      <td>0.592493</td>\n",
       "      <td>0.453003</td>\n",
       "      <td>-0.369890</td>\n",
       "      <td>0.186154</td>\n",
       "      <td>0.039619</td>\n",
       "      <td>0.327497</td>\n",
       "      <td>0.428418</td>\n",
       "      <td>1.106965</td>\n",
       "      <td>0.793443</td>\n",
       "    </tr>\n",
       "    <tr>\n",
       "      <th>2</th>\n",
       "      <td>1999</td>\n",
       "      <td>0</td>\n",
       "      <td>37520</td>\n",
       "      <td>-0.513596</td>\n",
       "      <td>0.337615</td>\n",
       "      <td>0.299015</td>\n",
       "      <td>-0.029080</td>\n",
       "      <td>-0.432605</td>\n",
       "      <td>0.829993</td>\n",
       "      <td>-0.707786</td>\n",
       "      <td>0.476153</td>\n",
       "      <td>2.179175</td>\n",
       "      <td>2.484584</td>\n",
       "    </tr>\n",
       "    <tr>\n",
       "      <th>3</th>\n",
       "      <td>1994</td>\n",
       "      <td>1</td>\n",
       "      <td>78110</td>\n",
       "      <td>-0.466129</td>\n",
       "      <td>0.370747</td>\n",
       "      <td>0.496067</td>\n",
       "      <td>-0.373429</td>\n",
       "      <td>-0.267424</td>\n",
       "      <td>0.977799</td>\n",
       "      <td>-0.610975</td>\n",
       "      <td>0.456810</td>\n",
       "      <td>0.151951</td>\n",
       "      <td>0.047789</td>\n",
       "    </tr>\n",
       "    <tr>\n",
       "      <th>4</th>\n",
       "      <td>1999</td>\n",
       "      <td>0</td>\n",
       "      <td>00079X10</td>\n",
       "      <td>2.023422</td>\n",
       "      <td>0.214876</td>\n",
       "      <td>0.182595</td>\n",
       "      <td>6.695360</td>\n",
       "      <td>-1.148338</td>\n",
       "      <td>-1.505889</td>\n",
       "      <td>2.876477</td>\n",
       "      <td>0.287375</td>\n",
       "      <td>-0.986442</td>\n",
       "      <td>0.791077</td>\n",
       "    </tr>\n",
       "  </tbody>\n",
       "</table>\n",
       "</div>"
      ],
      "text/plain": [
       "   FYEAR  DLRSN     CUSIP        R1        R2        R3        R4        R5  \\\n",
       "0   1999      0     36020  0.307139  0.887006  1.647681 -0.199158  1.092964   \n",
       "1   1999      0     36110  0.760736  0.592493  0.453003 -0.369890  0.186154   \n",
       "2   1999      0     37520 -0.513596  0.337615  0.299015 -0.029080 -0.432605   \n",
       "3   1994      1     78110 -0.466129  0.370747  0.496067 -0.373429 -0.267424   \n",
       "4   1999      0  00079X10  2.023422  0.214876  0.182595  6.695360 -1.148338   \n",
       "\n",
       "         R6        R7        R8        R9       R10  \n",
       "0 -0.313289 -0.196793  1.206763  0.282471  0.158896  \n",
       "1  0.039619  0.327497  0.428418  1.106965  0.793443  \n",
       "2  0.829993 -0.707786  0.476153  2.179175  2.484584  \n",
       "3  0.977799 -0.610975  0.456810  0.151951  0.047789  \n",
       "4 -1.505889  2.876477  0.287375 -0.986442  0.791077  "
      ]
     },
     "execution_count": 140,
     "metadata": {},
     "output_type": "execute_result"
    }
   ],
   "source": [
    "bankruptcy = pd.read_csv(\"/Users/brandonk87/Downloads/MSC 641/Tree Methods/bankruptcy.csv\")\n",
    "bankruptcy.head()"
   ]
  },
  {
   "cell_type": "code",
   "execution_count": 141,
   "id": "452b3389",
   "metadata": {},
   "outputs": [],
   "source": [
    "y = bankruptcy[[\"DLRSN\"]]\n",
    "x = bankruptcy.iloc[:,3:]\n",
    "x_train, x_test, y_train, y_test = train_test_split(x, y, test_size=0.20, random_state = 13)"
   ]
  },
  {
   "cell_type": "markdown",
   "id": "5a01695a",
   "metadata": {},
   "source": [
    "# Question 2"
   ]
  },
  {
   "cell_type": "code",
   "execution_count": 142,
   "id": "841b4c00",
   "metadata": {},
   "outputs": [
    {
     "name": "stdout",
     "output_type": "stream",
     "text": [
      "Train accuracy: 1.0\n",
      "Test accuracy: 0.8419117647058824\n"
     ]
    }
   ],
   "source": [
    "from sklearn import metrics\n",
    "from sklearn.tree import DecisionTreeClassifier\n",
    "tree = DecisionTreeClassifier(random_state=13)\n",
    "tree.fit(x_train, y_train)\n",
    "\n",
    "pred_train = tree.predict(x_train)\n",
    "print(\"Train accuracy:\",metrics.accuracy_score(pred_train,y_train))\n",
    "\n",
    "pred_test = tree.predict(x_test)\n",
    "print(\"Test accuracy:\",metrics.accuracy_score(pred_test,y_test))"
   ]
  },
  {
   "cell_type": "code",
   "execution_count": 143,
   "id": "3a80701a",
   "metadata": {},
   "outputs": [
    {
     "name": "stdout",
     "output_type": "stream",
     "text": [
      "[[855  75]\n",
      " [ 97  61]]\n",
      "The FNR is: 0.5514705882352942\n",
      "The FPR is: 0.10189075630252101\n",
      "The MR is: 0.15808823529411764\n"
     ]
    }
   ],
   "source": [
    "from sklearn.metrics import confusion_matrix\n",
    "cm = confusion_matrix(y_test, pred_test)\n",
    "TN = cm[0,0]\n",
    "FN = cm[0,1]\n",
    "FP = cm[1,0]\n",
    "TP = cm[1,1]\n",
    "print(cm)\n",
    "print(\"The FNR is:\", FN/(TP+FN))\n",
    "print(\"The FPR is:\",FP/(FP+TN))\n",
    "print(\"The MR is:\",(FP + FN)/len(y_test))"
   ]
  },
  {
   "cell_type": "code",
   "execution_count": 144,
   "id": "581326c0",
   "metadata": {},
   "outputs": [
    {
     "name": "stdout",
     "output_type": "stream",
     "text": [
      "AUC: 0.6527153940383831\n"
     ]
    },
    {
     "data": {
      "image/png": "[encoded data removed]",
      "text/plain": [
       "<Figure size 432x288 with 1 Axes>"
      ]
     },
     "metadata": {
      "needs_background": "light"
     },
     "output_type": "display_data"
    }
   ],
   "source": [
    "from sklearn.metrics import roc_curve, roc_auc_score\n",
    "pred_test_prob = tree.predict_proba(x_test)\n",
    "mr_probs = [0 for _ in range(len(y_test))]\n",
    "mr_fpr, mr_tpr, _ = roc_curve(y_test, mr_probs)\n",
    "lr_fpr, lr_tpr, _ = roc_curve(y_test, pred_test_prob[:,1])\n",
    "plt.plot(mr_fpr, mr_tpr, linestyle='--')\n",
    "plt.plot(lr_fpr, lr_tpr, marker='.')\n",
    "plt.xlabel('False Positive Rate')\n",
    "plt.ylabel('True Positive Rate')\n",
    "print(\"AUC:\",metrics.auc(lr_fpr, lr_tpr))"
   ]
  },
  {
   "cell_type": "markdown",
   "id": "d75c1c09",
   "metadata": {},
   "source": [
    "# Question 3"
   ]
  },
  {
   "cell_type": "code",
   "execution_count": 145,
   "id": "9177713d",
   "metadata": {},
   "outputs": [],
   "source": [
    "tree = DecisionTreeClassifier(random_state=13)\n",
    "path = tree.cost_complexity_pruning_path(x_train,y_train)\n",
    "alphas, impurities = path.ccp_alphas, path.impurities\n",
    "cv_score = []\n",
    "for i in alphas:\n",
    "    tree = DecisionTreeClassifier(random_state=13, ccp_alpha = i)\n",
    "    cv = cross_val_score(tree, x_train, y_train, cv=10, scoring = 'accuracy')\n",
    "    cv_score.append(np.mean(cv))"
   ]
  },
  {
   "cell_type": "code",
   "execution_count": 146,
   "id": "76925e4f",
   "metadata": {},
   "outputs": [
    {
     "data": {
      "text/plain": [
       "Text(0, 0.5, 'Accuracy')"
      ]
     },
     "execution_count": 146,
     "metadata": {},
     "output_type": "execute_result"
    },
    {
     "data": {
      "image/png": "[encoded data removed]",
      "text/plain": [
       "<Figure size 864x432 with 1 Axes>"
      ]
     },
     "metadata": {
      "needs_background": "light"
     },
     "output_type": "display_data"
    }
   ],
   "source": [
    "plt.figure(figsize=(12,6))\n",
    "plt.plot(alphas,cv_score,marker='o')\n",
    "plt.title('10-fold cross validation result')\n",
    "plt.xlabel('cp')\n",
    "plt.ylabel('Accuracy')"
   ]
  },
  {
   "cell_type": "code",
   "execution_count": 147,
   "id": "0d0fadfd",
   "metadata": {},
   "outputs": [
    {
     "name": "stdout",
     "output_type": "stream",
     "text": [
      "The optimal value of alpha is 0.0011513229946992602\n"
     ]
    }
   ],
   "source": [
    "print(\"The optimal value of alpha is\",alphas[np.argmax(cv_score)])"
   ]
  },
  {
   "cell_type": "code",
   "execution_count": 148,
   "id": "5da94315",
   "metadata": {},
   "outputs": [
    {
     "name": "stdout",
     "output_type": "stream",
     "text": [
      "Accuracy: 0.8814338235294118\n"
     ]
    }
   ],
   "source": [
    "tree = DecisionTreeClassifier(random_state=13, ccp_alpha = alphas[np.argmax(cv_score)])\n",
    "tree.fit(x_train, y_train)\n",
    "pred_test = tree.predict(x_test)\n",
    "print(\"Accuracy:\",metrics.accuracy_score(pred_test,y_test))"
   ]
  },
  {
   "cell_type": "code",
   "execution_count": 149,
   "id": "f8d335fa",
   "metadata": {},
   "outputs": [
    {
     "name": "stdout",
     "output_type": "stream",
     "text": [
      "[[904  26]\n",
      " [103  55]]\n",
      "The FNR is: 0.32098765432098764\n",
      "The FPR is: 0.10228401191658391\n",
      "The MR is: 0.11856617647058823\n"
     ]
    }
   ],
   "source": [
    "cm = confusion_matrix(y_test, pred_test)\n",
    "TN = cm[0,0]\n",
    "FN = cm[0,1]\n",
    "FP = cm[1,0]\n",
    "TP = cm[1,1]\n",
    "print(cm)\n",
    "print(\"The FNR is:\", FN/(TP+FN))\n",
    "print(\"The FPR is:\",FP/(FP+TN))\n",
    "print(\"The MR is:\",(FP + FN)/len(y_test))"
   ]
  },
  {
   "cell_type": "code",
   "execution_count": 150,
   "id": "445500fd",
   "metadata": {},
   "outputs": [
    {
     "name": "stdout",
     "output_type": "stream",
     "text": [
      "AUC: 0.8599700558050906\n"
     ]
    },
    {
     "data": {
      "image/png": "[encoded data removed]",
      "text/plain": [
       "<Figure size 432x288 with 1 Axes>"
      ]
     },
     "metadata": {
      "needs_background": "light"
     },
     "output_type": "display_data"
    }
   ],
   "source": [
    "pred_test_prob = tree.predict_proba(x_test)\n",
    "mr_probs = [0 for _ in range(len(y_test))]\n",
    "mr_fpr, mr_tpr, _ = roc_curve(y_test, mr_probs)\n",
    "lr_fpr, lr_tpr, _ = roc_curve(y_test, pred_test_prob[:,1])\n",
    "plt.plot(mr_fpr, mr_tpr, linestyle='--')\n",
    "plt.plot(lr_fpr, lr_tpr, marker='.')\n",
    "plt.xlabel('False Positive Rate')\n",
    "plt.ylabel('True Positive Rate')\n",
    "print(\"AUC:\",metrics.auc(lr_fpr, lr_tpr))"
   ]
  },
  {
   "cell_type": "markdown",
   "id": "16fbb66e",
   "metadata": {},
   "source": [
    "# Question 4"
   ]
  },
  {
   "cell_type": "code",
   "execution_count": 158,
   "id": "0648025d",
   "metadata": {},
   "outputs": [
    {
     "name": "stdout",
     "output_type": "stream",
     "text": [
      "Optimization terminated successfully.\n",
      "         Current function value: 0.276930\n",
      "         Iterations 9\n"
     ]
    }
   ],
   "source": [
    "import statsmodels.api as sm\n",
    "lr = sm.Logit(y_train, sm.add_constant(x_train)).fit()\n",
    "pred_test = lr.predict(sm.add_constant(x_test))\n",
    "pred_test = round(pred_test)"
   ]
  },
  {
   "cell_type": "code",
   "execution_count": 161,
   "id": "d012ab0a",
   "metadata": {},
   "outputs": [
    {
     "name": "stdout",
     "output_type": "stream",
     "text": [
      "Accuracy: 0.8915441176470589\n",
      "[[907  23]\n",
      " [ 95  63]]\n",
      "The FNR is: 0.26744186046511625\n",
      "The FPR is: 0.09481037924151696\n",
      "The MR is: 0.10845588235294118\n"
     ]
    }
   ],
   "source": [
    "cm = confusion_matrix(y_test, pred_test)\n",
    "TN = cm[0,0]\n",
    "FN = cm[0,1]\n",
    "FP = cm[1,0]\n",
    "TP = cm[1,1]\n",
    "print(\"Accuracy:\",metrics.accuracy_score(pred_test,y_test))\n",
    "print(cm)\n",
    "print(\"The FNR is:\", FN/(TP+FN))\n",
    "print(\"The FPR is:\",FP/(FP+TN))\n",
    "print(\"The MR is:\",(FP + FN)/len(y_test))"
   ]
  },
  {
   "cell_type": "code",
   "execution_count": 163,
   "id": "ba2f6125",
   "metadata": {},
   "outputs": [
    {
     "name": "stdout",
     "output_type": "stream",
     "text": [
      "AUC: 0.6870014972097455\n"
     ]
    },
    {
     "data": {
      "image/png": "[encoded data removed]",
      "text/plain": [
       "<Figure size 432x288 with 1 Axes>"
      ]
     },
     "metadata": {
      "needs_background": "light"
     },
     "output_type": "display_data"
    }
   ],
   "source": [
    "pred_test = lr.predict(sm.add_constant(x_test))\n",
    "pred_test_prob = round(pred_test)\n",
    "mr_probs = [0 for _ in range(len(y_test))]\n",
    "mr_fpr, mr_tpr, _ = roc_curve(y_test, mr_probs)\n",
    "lr_fpr, lr_tpr, _ = roc_curve(y_test, pred_test_prob)\n",
    "plt.plot(mr_fpr, mr_tpr, linestyle='--')\n",
    "plt.plot(lr_fpr, lr_tpr, marker='.')\n",
    "plt.xlabel('False Positive Rate')\n",
    "plt.ylabel('True Positive Rate')\n",
    "print(\"AUC:\",metrics.auc(lr_fpr, lr_tpr))"
   ]
  }
 ],
 "metadata": {
  "kernelspec": {
   "display_name": "Python 3 (ipykernel)",
   "language": "python",
   "name": "python3"
  },
  "language_info": {
   "codemirror_mode": {
    "name": "ipython",
    "version": 3
   },
   "file_extension": ".py",
   "mimetype": "text/x-python",
   "name": "python",
   "nbconvert_exporter": "python",
   "pygments_lexer": "ipython3",
   "version": "3.9.12"
  }
 },
 "nbformat": 4,
 "nbformat_minor": 5
}
