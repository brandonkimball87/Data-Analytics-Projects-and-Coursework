{
 "cells": [
  {
   "cell_type": "code",
   "execution_count": 22,
   "id": "b30566f5",
   "metadata": {},
   "outputs": [],
   "source": [
    "import pandas as pd\n",
    "import numpy as np\n",
    "import matplotlib.pyplot as plt"
   ]
  },
  {
   "cell_type": "markdown",
   "id": "168bba43",
   "metadata": {},
   "source": [
    "# Question 1"
   ]
  },
  {
   "cell_type": "code",
   "execution_count": 23,
   "id": "c0921b9d",
   "metadata": {},
   "outputs": [
    {
     "data": {
      "text/html": [
       "<div>\n",
       "<style scoped>\n",
       "    .dataframe tbody tr th:only-of-type {\n",
       "        vertical-align: middle;\n",
       "    }\n",
       "\n",
       "    .dataframe tbody tr th {\n",
       "        vertical-align: top;\n",
       "    }\n",
       "\n",
       "    .dataframe thead th {\n",
       "        text-align: right;\n",
       "    }\n",
       "</style>\n",
       "<table border=\"1\" class=\"dataframe\">\n",
       "  <thead>\n",
       "    <tr style=\"text-align: right;\">\n",
       "      <th></th>\n",
       "      <th>LIMIT_BAL</th>\n",
       "      <th>AGE</th>\n",
       "      <th>PAY_0</th>\n",
       "      <th>PAY_2</th>\n",
       "      <th>PAY_3</th>\n",
       "      <th>PAY_4</th>\n",
       "      <th>PAY_5</th>\n",
       "      <th>PAY_6</th>\n",
       "      <th>BILL_AMT1</th>\n",
       "      <th>BILL_AMT2</th>\n",
       "      <th>...</th>\n",
       "      <th>Sex_1</th>\n",
       "      <th>Sex_2</th>\n",
       "      <th>Education_1</th>\n",
       "      <th>Education_2</th>\n",
       "      <th>Education_3</th>\n",
       "      <th>Education_4</th>\n",
       "      <th>Marriage_1</th>\n",
       "      <th>Marriage_2</th>\n",
       "      <th>Marriage_3</th>\n",
       "      <th>default payment next month</th>\n",
       "    </tr>\n",
       "  </thead>\n",
       "  <tbody>\n",
       "    <tr>\n",
       "      <th>0</th>\n",
       "      <td>20000</td>\n",
       "      <td>24</td>\n",
       "      <td>2</td>\n",
       "      <td>2</td>\n",
       "      <td>-1</td>\n",
       "      <td>-1</td>\n",
       "      <td>-2</td>\n",
       "      <td>-2</td>\n",
       "      <td>3913</td>\n",
       "      <td>3102</td>\n",
       "      <td>...</td>\n",
       "      <td>0</td>\n",
       "      <td>1</td>\n",
       "      <td>0</td>\n",
       "      <td>1</td>\n",
       "      <td>0</td>\n",
       "      <td>0</td>\n",
       "      <td>1</td>\n",
       "      <td>0</td>\n",
       "      <td>0</td>\n",
       "      <td>1</td>\n",
       "    </tr>\n",
       "    <tr>\n",
       "      <th>1</th>\n",
       "      <td>120000</td>\n",
       "      <td>26</td>\n",
       "      <td>-1</td>\n",
       "      <td>2</td>\n",
       "      <td>0</td>\n",
       "      <td>0</td>\n",
       "      <td>0</td>\n",
       "      <td>2</td>\n",
       "      <td>2682</td>\n",
       "      <td>1725</td>\n",
       "      <td>...</td>\n",
       "      <td>0</td>\n",
       "      <td>1</td>\n",
       "      <td>0</td>\n",
       "      <td>1</td>\n",
       "      <td>0</td>\n",
       "      <td>0</td>\n",
       "      <td>0</td>\n",
       "      <td>1</td>\n",
       "      <td>0</td>\n",
       "      <td>1</td>\n",
       "    </tr>\n",
       "    <tr>\n",
       "      <th>2</th>\n",
       "      <td>90000</td>\n",
       "      <td>34</td>\n",
       "      <td>0</td>\n",
       "      <td>0</td>\n",
       "      <td>0</td>\n",
       "      <td>0</td>\n",
       "      <td>0</td>\n",
       "      <td>0</td>\n",
       "      <td>29239</td>\n",
       "      <td>14027</td>\n",
       "      <td>...</td>\n",
       "      <td>0</td>\n",
       "      <td>1</td>\n",
       "      <td>0</td>\n",
       "      <td>1</td>\n",
       "      <td>0</td>\n",
       "      <td>0</td>\n",
       "      <td>0</td>\n",
       "      <td>1</td>\n",
       "      <td>0</td>\n",
       "      <td>0</td>\n",
       "    </tr>\n",
       "    <tr>\n",
       "      <th>3</th>\n",
       "      <td>50000</td>\n",
       "      <td>37</td>\n",
       "      <td>0</td>\n",
       "      <td>0</td>\n",
       "      <td>0</td>\n",
       "      <td>0</td>\n",
       "      <td>0</td>\n",
       "      <td>0</td>\n",
       "      <td>46990</td>\n",
       "      <td>48233</td>\n",
       "      <td>...</td>\n",
       "      <td>0</td>\n",
       "      <td>1</td>\n",
       "      <td>0</td>\n",
       "      <td>1</td>\n",
       "      <td>0</td>\n",
       "      <td>0</td>\n",
       "      <td>1</td>\n",
       "      <td>0</td>\n",
       "      <td>0</td>\n",
       "      <td>0</td>\n",
       "    </tr>\n",
       "    <tr>\n",
       "      <th>4</th>\n",
       "      <td>50000</td>\n",
       "      <td>57</td>\n",
       "      <td>-1</td>\n",
       "      <td>0</td>\n",
       "      <td>-1</td>\n",
       "      <td>0</td>\n",
       "      <td>0</td>\n",
       "      <td>0</td>\n",
       "      <td>8617</td>\n",
       "      <td>5670</td>\n",
       "      <td>...</td>\n",
       "      <td>1</td>\n",
       "      <td>0</td>\n",
       "      <td>0</td>\n",
       "      <td>1</td>\n",
       "      <td>0</td>\n",
       "      <td>0</td>\n",
       "      <td>1</td>\n",
       "      <td>0</td>\n",
       "      <td>0</td>\n",
       "      <td>0</td>\n",
       "    </tr>\n",
       "  </tbody>\n",
       "</table>\n",
       "<p>5 rows × 30 columns</p>\n",
       "</div>"
      ],
      "text/plain": [
       "   LIMIT_BAL  AGE  PAY_0  PAY_2  PAY_3  PAY_4  PAY_5  PAY_6  BILL_AMT1  \\\n",
       "0      20000   24      2      2     -1     -1     -2     -2       3913   \n",
       "1     120000   26     -1      2      0      0      0      2       2682   \n",
       "2      90000   34      0      0      0      0      0      0      29239   \n",
       "3      50000   37      0      0      0      0      0      0      46990   \n",
       "4      50000   57     -1      0     -1      0      0      0       8617   \n",
       "\n",
       "   BILL_AMT2  ...  Sex_1  Sex_2  Education_1  Education_2  Education_3  \\\n",
       "0       3102  ...      0      1            0            1            0   \n",
       "1       1725  ...      0      1            0            1            0   \n",
       "2      14027  ...      0      1            0            1            0   \n",
       "3      48233  ...      0      1            0            1            0   \n",
       "4       5670  ...      1      0            0            1            0   \n",
       "\n",
       "   Education_4  Marriage_1  Marriage_2  Marriage_3  default payment next month  \n",
       "0            0           1           0           0                           1  \n",
       "1            0           0           1           0                           1  \n",
       "2            0           0           1           0                           0  \n",
       "3            0           1           0           0                           0  \n",
       "4            0           1           0           0                           0  \n",
       "\n",
       "[5 rows x 30 columns]"
      ]
     },
     "execution_count": 23,
     "metadata": {},
     "output_type": "execute_result"
    }
   ],
   "source": [
    "default = pd.read_csv(\"/Users/brandonk87/Downloads/MSC 641/Stacking/Default-1.csv\")\n",
    "dummies_sex = pd.get_dummies(default['SEX'], prefix='Sex')\n",
    "dummies_edu = pd.get_dummies(default['EDUCATION'], prefix='Education')\n",
    "dummies_mar = pd.get_dummies(default['MARRIAGE'], prefix='Marriage')\n",
    "default = pd.concat([default, dummies_sex, dummies_edu, dummies_mar], axis=1)\n",
    "default = default.drop(['SEX', 'EDUCATION', 'MARRIAGE'], axis=1)\n",
    "default_col = default.pop('default payment next month')\n",
    "default = pd.concat([default, default_col], axis=1)\n",
    "default.head()"
   ]
  },
  {
   "cell_type": "code",
   "execution_count": 24,
   "id": "19831ec1",
   "metadata": {},
   "outputs": [],
   "source": [
    "from sklearn.model_selection import train_test_split\n",
    "x = default.iloc[:,:-1]\n",
    "y = default.iloc[:,-1:]\n",
    "x_train, x_test, y_train, y_test = train_test_split(x, y, test_size=0.20,random_state=13)"
   ]
  },
  {
   "cell_type": "markdown",
   "id": "6e59fdd2",
   "metadata": {},
   "source": [
    "# Question 2"
   ]
  },
  {
   "cell_type": "code",
   "execution_count": 25,
   "id": "4de787a3",
   "metadata": {},
   "outputs": [],
   "source": [
    "from sklearn.preprocessing import StandardScaler\n",
    "sc = StandardScaler()\n",
    "x_train.iloc[:,:20] = sc.fit_transform(x_train.iloc[:,:20])\n",
    "x_test.iloc[:,:20] = sc.transform(x_test.iloc[:,:20])"
   ]
  },
  {
   "cell_type": "markdown",
   "id": "395366de",
   "metadata": {},
   "source": [
    "# Question 3"
   ]
  },
  {
   "cell_type": "code",
   "execution_count": 26,
   "id": "0e4b5fce",
   "metadata": {},
   "outputs": [
    {
     "data": {
      "text/plain": [
       "5"
      ]
     },
     "execution_count": 26,
     "metadata": {},
     "output_type": "execute_result"
    }
   ],
   "source": [
    "import math\n",
    "p = round(math.sqrt(x_train.shape[1]))\n",
    "p"
   ]
  },
  {
   "cell_type": "code",
   "execution_count": 27,
   "id": "28f49b77",
   "metadata": {
    "collapsed": true
   },
   "outputs": [
    {
     "name": "stderr",
     "output_type": "stream",
     "text": [
      "/Users/brandonk87/opt/anaconda3/lib/python3.9/site-packages/sklearn/preprocessing/_label.py:98: DataConversionWarning: A column-vector y was passed when a 1d array was expected. Please change the shape of y to (n_samples, ), for example using ravel().\n",
      "  y = column_or_1d(y, warn=True)\n",
      "/Users/brandonk87/opt/anaconda3/lib/python3.9/site-packages/sklearn/preprocessing/_label.py:133: DataConversionWarning: A column-vector y was passed when a 1d array was expected. Please change the shape of y to (n_samples, ), for example using ravel().\n",
      "  y = column_or_1d(y, warn=True)\n",
      "/Users/brandonk87/opt/anaconda3/lib/python3.9/site-packages/sklearn/linear_model/_logistic.py:444: ConvergenceWarning: lbfgs failed to converge (status=1):\n",
      "STOP: TOTAL NO. of ITERATIONS REACHED LIMIT.\n",
      "\n",
      "Increase the number of iterations (max_iter) or scale the data as shown in:\n",
      "    https://scikit-learn.org/stable/modules/preprocessing.html\n",
      "Please also refer to the documentation for alternative solver options:\n",
      "    https://scikit-learn.org/stable/modules/linear_model.html#logistic-regression\n",
      "  n_iter_i = _check_optimize_result(\n",
      "/Users/brandonk87/opt/anaconda3/lib/python3.9/site-packages/sklearn/linear_model/_logistic.py:444: ConvergenceWarning: lbfgs failed to converge (status=1):\n",
      "STOP: TOTAL NO. of ITERATIONS REACHED LIMIT.\n",
      "\n",
      "Increase the number of iterations (max_iter) or scale the data as shown in:\n",
      "    https://scikit-learn.org/stable/modules/preprocessing.html\n",
      "Please also refer to the documentation for alternative solver options:\n",
      "    https://scikit-learn.org/stable/modules/linear_model.html#logistic-regression\n",
      "  n_iter_i = _check_optimize_result(\n",
      "/Users/brandonk87/opt/anaconda3/lib/python3.9/site-packages/sklearn/linear_model/_logistic.py:444: ConvergenceWarning: lbfgs failed to converge (status=1):\n",
      "STOP: TOTAL NO. of ITERATIONS REACHED LIMIT.\n",
      "\n",
      "Increase the number of iterations (max_iter) or scale the data as shown in:\n",
      "    https://scikit-learn.org/stable/modules/preprocessing.html\n",
      "Please also refer to the documentation for alternative solver options:\n",
      "    https://scikit-learn.org/stable/modules/linear_model.html#logistic-regression\n",
      "  n_iter_i = _check_optimize_result(\n",
      "/Users/brandonk87/opt/anaconda3/lib/python3.9/site-packages/sklearn/linear_model/_logistic.py:444: ConvergenceWarning: lbfgs failed to converge (status=1):\n",
      "STOP: TOTAL NO. of ITERATIONS REACHED LIMIT.\n",
      "\n",
      "Increase the number of iterations (max_iter) or scale the data as shown in:\n",
      "    https://scikit-learn.org/stable/modules/preprocessing.html\n",
      "Please also refer to the documentation for alternative solver options:\n",
      "    https://scikit-learn.org/stable/modules/linear_model.html#logistic-regression\n",
      "  n_iter_i = _check_optimize_result(\n"
     ]
    },
    {
     "name": "stdout",
     "output_type": "stream",
     "text": [
      "Test accuracy for stacking ensemble: 0.82\n"
     ]
    }
   ],
   "source": [
    "from sklearn.linear_model import LogisticRegression\n",
    "from sklearn.neighbors import KNeighborsClassifier\n",
    "from sklearn.tree import DecisionTreeClassifier, export_text, plot_tree\n",
    "from sklearn.ensemble import RandomForestClassifier\n",
    "from sklearn.ensemble import StackingClassifier\n",
    "from sklearn.metrics import mean_squared_error, accuracy_score\n",
    "\n",
    "baselearner = list()\n",
    "    # Empty list where you are going to put the base learners in\n",
    "baselearner.append(('lr', LogisticRegression()))\n",
    "baselearner.append(('knn', KNeighborsClassifier(n_neighbors=5)))\n",
    "baselearner.append(('tree', DecisionTreeClassifier(random_state=13)))\n",
    "baselearner.append(('rf', RandomForestClassifier(n_estimators = 100, random_state = 13, max_features = p)))\n",
    "    # How you build and each base learner\n",
    "\n",
    "metalearner = LogisticRegression()\n",
    "    # Defining the meta model\n",
    "\n",
    "stack = StackingClassifier(estimators=baselearner, final_estimator=metalearner, cv=5)\n",
    "    # use stack_methods to do predicted labels (default) or predicted probability\n",
    "stack.fit(x_train, y_train)\n",
    "pred_stack = stack.predict(x_test)\n",
    "print(\"Test accuracy for stacking ensemble:\",accuracy_score(pred_stack,y_test))\n",
    "accuracy = accuracy_score(pred_stack,y_test)"
   ]
  },
  {
   "cell_type": "code",
   "execution_count": 28,
   "id": "f687522a",
   "metadata": {},
   "outputs": [
    {
     "name": "stdout",
     "output_type": "stream",
     "text": [
      "[[4462  212]\n",
      " [ 868  458]]\n",
      "The FNR is: 0.3164179104477612\n",
      "The FPR is: 0.1628517823639775\n",
      "Classification accuracy is 0.82\n",
      "The MR is: 0.18\n"
     ]
    }
   ],
   "source": [
    "from sklearn.metrics import confusion_matrix\n",
    "cm = confusion_matrix(y_test, pred_stack)\n",
    "TN = cm[0,0]\n",
    "FN = cm[0,1]\n",
    "FP = cm[1,0]\n",
    "TP = cm[1,1]\n",
    "print(cm)\n",
    "print(\"The FNR is:\", FN/(TP+FN))\n",
    "print(\"The FPR is:\",FP/(FP+TN))\n",
    "print(\"Classification accuracy is\", accuracy)\n",
    "print(\"The MR is:\",(FP + FN)/len(y_test))"
   ]
  },
  {
   "cell_type": "code",
   "execution_count": 29,
   "id": "c457ee16",
   "metadata": {},
   "outputs": [
    {
     "name": "stdout",
     "output_type": "stream",
     "text": [
      "AUC: 0.7749424627492286\n"
     ]
    },
    {
     "data": {
      "image/png": "[encoded data removed]",
      "text/plain": [
       "<Figure size 432x288 with 1 Axes>"
      ]
     },
     "metadata": {
      "needs_background": "light"
     },
     "output_type": "display_data"
    }
   ],
   "source": [
    "from sklearn.metrics import roc_curve, roc_auc_score\n",
    "from sklearn import metrics\n",
    "pred_test_prob = stack.predict_proba(x_test)\n",
    "mr_probs = [0 for _ in range(len(y_test))]\n",
    "mr_fpr, mr_tpr, _ = roc_curve(y_test, mr_probs)\n",
    "lr_fpr, lr_tpr, _ = roc_curve(y_test, pred_test_prob[:,1])\n",
    "plt.plot(mr_fpr, mr_tpr, linestyle='--')\n",
    "plt.plot(lr_fpr, lr_tpr, marker='.')\n",
    "plt.xlabel('False Positive Rate')\n",
    "plt.ylabel('True Positive Rate')\n",
    "print(\"AUC:\",metrics.auc(lr_fpr, lr_tpr))"
   ]
  },
  {
   "cell_type": "markdown",
   "id": "6a602216",
   "metadata": {},
   "source": [
    "# Question 4"
   ]
  },
  {
   "cell_type": "code",
   "execution_count": 30,
   "id": "bd8e781c",
   "metadata": {
    "collapsed": true
   },
   "outputs": [
    {
     "name": "stderr",
     "output_type": "stream",
     "text": [
      "/Users/brandonk87/opt/anaconda3/lib/python3.9/site-packages/sklearn/preprocessing/_label.py:98: DataConversionWarning: A column-vector y was passed when a 1d array was expected. Please change the shape of y to (n_samples, ), for example using ravel().\n",
      "  y = column_or_1d(y, warn=True)\n",
      "/Users/brandonk87/opt/anaconda3/lib/python3.9/site-packages/sklearn/preprocessing/_label.py:133: DataConversionWarning: A column-vector y was passed when a 1d array was expected. Please change the shape of y to (n_samples, ), for example using ravel().\n",
      "  y = column_or_1d(y, warn=True)\n"
     ]
    }
   ],
   "source": [
    "baselearner = list()\n",
    "baselearner.append(('tree5', DecisionTreeClassifier(random_state=13, max_depth = 5)))\n",
    "baselearner.append(('tree10', DecisionTreeClassifier(random_state=13, max_depth = 10)))\n",
    "baselearner.append(('tree20', DecisionTreeClassifier(random_state=13, max_depth = 20)))\n",
    "baselearner.append(('tree_none', DecisionTreeClassifier(random_state=13, max_depth = None)))\n",
    "\n",
    "metalearner = LogisticRegression()\n",
    "\n",
    "stack2 = StackingClassifier(estimators=baselearner, final_estimator=metalearner, cv=5)\n",
    "stack2.fit(x_train, y_train)\n",
    "pred_stack2 = stack2.predict(x_test)\n",
    "accuracy2 = accuracy_score(pred_stack2,y_test)"
   ]
  },
  {
   "cell_type": "code",
   "execution_count": 31,
   "id": "90bb0bd7",
   "metadata": {},
   "outputs": [
    {
     "name": "stdout",
     "output_type": "stream",
     "text": [
      "[[4498  176]\n",
      " [ 892  434]]\n",
      "The FNR is: 0.28852459016393445\n",
      "The FPR is: 0.16549165120593692\n",
      "Classification accuracy is 0.822\n",
      "The MR is: 0.178\n",
      "AUC: 0.7587344160533771\n"
     ]
    },
    {
     "data": {
      "image/png": "[encoded data removed]",
      "text/plain": [
       "<Figure size 432x288 with 1 Axes>"
      ]
     },
     "metadata": {
      "needs_background": "light"
     },
     "output_type": "display_data"
    }
   ],
   "source": [
    "cm = confusion_matrix(y_test, pred_stack2)\n",
    "TN = cm[0,0]\n",
    "FN = cm[0,1]\n",
    "FP = cm[1,0]\n",
    "TP = cm[1,1]\n",
    "print(cm)\n",
    "print(\"The FNR is:\", FN/(TP+FN))\n",
    "print(\"The FPR is:\",FP/(FP+TN))\n",
    "print(\"Classification accuracy is\", accuracy2)\n",
    "print(\"The MR is:\",(FP + FN)/len(y_test))\n",
    "pred_test_prob = stack2.predict_proba(x_test)\n",
    "mr_probs = [0 for _ in range(len(y_test))]\n",
    "mr_fpr, mr_tpr, _ = roc_curve(y_test, mr_probs)\n",
    "lr_fpr, lr_tpr, _ = roc_curve(y_test, pred_test_prob[:,1])\n",
    "plt.plot(mr_fpr, mr_tpr, linestyle='--')\n",
    "plt.plot(lr_fpr, lr_tpr, marker='.')\n",
    "plt.xlabel('False Positive Rate')\n",
    "plt.ylabel('True Positive Rate')\n",
    "print(\"AUC:\",metrics.auc(lr_fpr, lr_tpr))"
   ]
  },
  {
   "cell_type": "markdown",
   "id": "6ed5bb4f",
   "metadata": {},
   "source": [
    "# Question 5"
   ]
  },
  {
   "cell_type": "code",
   "execution_count": 32,
   "id": "5b46d338",
   "metadata": {
    "collapsed": true
   },
   "outputs": [
    {
     "name": "stderr",
     "output_type": "stream",
     "text": [
      "/Users/brandonk87/opt/anaconda3/lib/python3.9/site-packages/sklearn/preprocessing/_label.py:98: DataConversionWarning: A column-vector y was passed when a 1d array was expected. Please change the shape of y to (n_samples, ), for example using ravel().\n",
      "  y = column_or_1d(y, warn=True)\n",
      "/Users/brandonk87/opt/anaconda3/lib/python3.9/site-packages/sklearn/preprocessing/_label.py:133: DataConversionWarning: A column-vector y was passed when a 1d array was expected. Please change the shape of y to (n_samples, ), for example using ravel().\n",
      "  y = column_or_1d(y, warn=True)\n",
      "/Users/brandonk87/opt/anaconda3/lib/python3.9/site-packages/sklearn/linear_model/_logistic.py:444: ConvergenceWarning: lbfgs failed to converge (status=1):\n",
      "STOP: TOTAL NO. of ITERATIONS REACHED LIMIT.\n",
      "\n",
      "Increase the number of iterations (max_iter) or scale the data as shown in:\n",
      "    https://scikit-learn.org/stable/modules/preprocessing.html\n",
      "Please also refer to the documentation for alternative solver options:\n",
      "    https://scikit-learn.org/stable/modules/linear_model.html#logistic-regression\n",
      "  n_iter_i = _check_optimize_result(\n",
      "/Users/brandonk87/opt/anaconda3/lib/python3.9/site-packages/sklearn/linear_model/_logistic.py:444: ConvergenceWarning: lbfgs failed to converge (status=1):\n",
      "STOP: TOTAL NO. of ITERATIONS REACHED LIMIT.\n",
      "\n",
      "Increase the number of iterations (max_iter) or scale the data as shown in:\n",
      "    https://scikit-learn.org/stable/modules/preprocessing.html\n",
      "Please also refer to the documentation for alternative solver options:\n",
      "    https://scikit-learn.org/stable/modules/linear_model.html#logistic-regression\n",
      "  n_iter_i = _check_optimize_result(\n",
      "/Users/brandonk87/opt/anaconda3/lib/python3.9/site-packages/sklearn/linear_model/_logistic.py:444: ConvergenceWarning: lbfgs failed to converge (status=1):\n",
      "STOP: TOTAL NO. of ITERATIONS REACHED LIMIT.\n",
      "\n",
      "Increase the number of iterations (max_iter) or scale the data as shown in:\n",
      "    https://scikit-learn.org/stable/modules/preprocessing.html\n",
      "Please also refer to the documentation for alternative solver options:\n",
      "    https://scikit-learn.org/stable/modules/linear_model.html#logistic-regression\n",
      "  n_iter_i = _check_optimize_result(\n",
      "/Users/brandonk87/opt/anaconda3/lib/python3.9/site-packages/sklearn/linear_model/_logistic.py:444: ConvergenceWarning: lbfgs failed to converge (status=1):\n",
      "STOP: TOTAL NO. of ITERATIONS REACHED LIMIT.\n",
      "\n",
      "Increase the number of iterations (max_iter) or scale the data as shown in:\n",
      "    https://scikit-learn.org/stable/modules/preprocessing.html\n",
      "Please also refer to the documentation for alternative solver options:\n",
      "    https://scikit-learn.org/stable/modules/linear_model.html#logistic-regression\n",
      "  n_iter_i = _check_optimize_result(\n",
      "/Users/brandonk87/opt/anaconda3/lib/python3.9/site-packages/sklearn/linear_model/_logistic.py:444: ConvergenceWarning: lbfgs failed to converge (status=1):\n",
      "STOP: TOTAL NO. of ITERATIONS REACHED LIMIT.\n",
      "\n",
      "Increase the number of iterations (max_iter) or scale the data as shown in:\n",
      "    https://scikit-learn.org/stable/modules/preprocessing.html\n",
      "Please also refer to the documentation for alternative solver options:\n",
      "    https://scikit-learn.org/stable/modules/linear_model.html#logistic-regression\n",
      "  n_iter_i = _check_optimize_result(\n",
      "/Users/brandonk87/opt/anaconda3/lib/python3.9/site-packages/sklearn/linear_model/_logistic.py:444: ConvergenceWarning: lbfgs failed to converge (status=1):\n",
      "STOP: TOTAL NO. of ITERATIONS REACHED LIMIT.\n",
      "\n",
      "Increase the number of iterations (max_iter) or scale the data as shown in:\n",
      "    https://scikit-learn.org/stable/modules/preprocessing.html\n",
      "Please also refer to the documentation for alternative solver options:\n",
      "    https://scikit-learn.org/stable/modules/linear_model.html#logistic-regression\n",
      "  n_iter_i = _check_optimize_result(\n",
      "/Users/brandonk87/opt/anaconda3/lib/python3.9/site-packages/sklearn/linear_model/_logistic.py:444: ConvergenceWarning: lbfgs failed to converge (status=1):\n",
      "STOP: TOTAL NO. of ITERATIONS REACHED LIMIT.\n",
      "\n",
      "Increase the number of iterations (max_iter) or scale the data as shown in:\n",
      "    https://scikit-learn.org/stable/modules/preprocessing.html\n",
      "Please also refer to the documentation for alternative solver options:\n",
      "    https://scikit-learn.org/stable/modules/linear_model.html#logistic-regression\n",
      "  n_iter_i = _check_optimize_result(\n",
      "/Users/brandonk87/opt/anaconda3/lib/python3.9/site-packages/sklearn/linear_model/_logistic.py:444: ConvergenceWarning: lbfgs failed to converge (status=1):\n",
      "STOP: TOTAL NO. of ITERATIONS REACHED LIMIT.\n",
      "\n",
      "Increase the number of iterations (max_iter) or scale the data as shown in:\n",
      "    https://scikit-learn.org/stable/modules/preprocessing.html\n",
      "Please also refer to the documentation for alternative solver options:\n",
      "    https://scikit-learn.org/stable/modules/linear_model.html#logistic-regression\n",
      "  n_iter_i = _check_optimize_result(\n"
     ]
    }
   ],
   "source": [
    "from sklearn.ensemble import GradientBoostingClassifier\n",
    "baselearner = list()\n",
    "baselearner.append(('lr', LogisticRegression()))\n",
    "baselearner.append(('lr_lasso', LogisticRegression(penalty = 'l1', solver = 'liblinear')))\n",
    "baselearner.append(('lr_ridge', LogisticRegression(penalty = 'l2')))\n",
    "baselearner.append(('knn', KNeighborsClassifier(n_neighbors = 5)))\n",
    "baselearner.append(('tree', DecisionTreeClassifier(random_state = 13)))\n",
    "baselearner.append(('tree1', DecisionTreeClassifier(random_state = 13, max_depth = 1)))\n",
    "baselearner.append(('rf', RandomForestClassifier(n_estimators = 100, random_state = 13, max_features = p)))\n",
    "baselearner.append(('gradient', GradientBoostingClassifier(max_depth = 3)))\n",
    "\n",
    "metalearner = LogisticRegression()\n",
    "\n",
    "stack3 = StackingClassifier(estimators=baselearner, final_estimator=metalearner, cv=5)\n",
    "stack3.fit(x_train, y_train)\n",
    "pred_stack3 = stack3.predict(x_test)\n",
    "accuracy3 = accuracy_score(pred_stack3,y_test)"
   ]
  },
  {
   "cell_type": "code",
   "execution_count": 33,
   "id": "8a50a5aa",
   "metadata": {},
   "outputs": [
    {
     "name": "stdout",
     "output_type": "stream",
     "text": [
      "[[4450  224]\n",
      " [ 834  492]]\n",
      "The FNR is: 0.3128491620111732\n",
      "The FPR is: 0.1578349735049205\n",
      "Classification accuracy is 0.8236666666666667\n",
      "The MR is: 0.17633333333333334\n",
      "AUC: 0.7863998945419318\n"
     ]
    },
    {
     "data": {
      "image/png": "[encoded data removed]",
      "text/plain": [
       "<Figure size 432x288 with 1 Axes>"
      ]
     },
     "metadata": {
      "needs_background": "light"
     },
     "output_type": "display_data"
    }
   ],
   "source": [
    "cm = confusion_matrix(y_test, pred_stack3)\n",
    "TN = cm[0,0]\n",
    "FN = cm[0,1]\n",
    "FP = cm[1,0]\n",
    "TP = cm[1,1]\n",
    "print(cm)\n",
    "print(\"The FNR is:\", FN/(TP+FN))\n",
    "print(\"The FPR is:\",FP/(FP+TN))\n",
    "print(\"Classification accuracy is\", accuracy3)\n",
    "print(\"The MR is:\",(FP + FN)/len(y_test))\n",
    "pred_test_prob = stack3.predict_proba(x_test)\n",
    "mr_probs = [0 for _ in range(len(y_test))]\n",
    "mr_fpr, mr_tpr, _ = roc_curve(y_test, mr_probs)\n",
    "lr_fpr, lr_tpr, _ = roc_curve(y_test, pred_test_prob[:,1])\n",
    "plt.plot(mr_fpr, mr_tpr, linestyle='--')\n",
    "plt.plot(lr_fpr, lr_tpr, marker='.')\n",
    "plt.xlabel('False Positive Rate')\n",
    "plt.ylabel('True Positive Rate')\n",
    "print(\"AUC:\",metrics.auc(lr_fpr, lr_tpr))"
   ]
  }
 ],
 "metadata": {
  "kernelspec": {
   "display_name": "Python 3 (ipykernel)",
   "language": "python",
   "name": "python3"
  },
  "language_info": {
   "codemirror_mode": {
    "name": "ipython",
    "version": 3
   },
   "file_extension": ".py",
   "mimetype": "text/x-python",
   "name": "python",
   "nbconvert_exporter": "python",
   "pygments_lexer": "ipython3",
   "version": "3.9.12"
  }
 },
 "nbformat": 4,
 "nbformat_minor": 5
}
