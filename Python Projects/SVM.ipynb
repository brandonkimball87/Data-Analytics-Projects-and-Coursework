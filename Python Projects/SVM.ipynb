{
 "cells": [
  {
   "cell_type": "code",
   "execution_count": 1,
   "id": "5ca12457",
   "metadata": {},
   "outputs": [],
   "source": [
    "import pandas as pd\n",
    "import numpy as np\n",
    "import matplotlib.pyplot as plt"
   ]
  },
  {
   "cell_type": "markdown",
   "id": "f6f3c0f0",
   "metadata": {},
   "source": [
    "# Question 1"
   ]
  },
  {
   "cell_type": "code",
   "execution_count": 2,
   "id": "c825d8ac",
   "metadata": {},
   "outputs": [
    {
     "data": {
      "text/html": [
       "<div>\n",
       "<style scoped>\n",
       "    .dataframe tbody tr th:only-of-type {\n",
       "        vertical-align: middle;\n",
       "    }\n",
       "\n",
       "    .dataframe tbody tr th {\n",
       "        vertical-align: top;\n",
       "    }\n",
       "\n",
       "    .dataframe thead th {\n",
       "        text-align: right;\n",
       "    }\n",
       "</style>\n",
       "<table border=\"1\" class=\"dataframe\">\n",
       "  <thead>\n",
       "    <tr style=\"text-align: right;\">\n",
       "      <th></th>\n",
       "      <th>variance</th>\n",
       "      <th>skew</th>\n",
       "      <th>curtosis</th>\n",
       "      <th>entropy</th>\n",
       "      <th>class</th>\n",
       "    </tr>\n",
       "  </thead>\n",
       "  <tbody>\n",
       "    <tr>\n",
       "      <th>0</th>\n",
       "      <td>3.62160</td>\n",
       "      <td>8.6661</td>\n",
       "      <td>-2.8073</td>\n",
       "      <td>-0.44699</td>\n",
       "      <td>0</td>\n",
       "    </tr>\n",
       "    <tr>\n",
       "      <th>1</th>\n",
       "      <td>4.54590</td>\n",
       "      <td>8.1674</td>\n",
       "      <td>-2.4586</td>\n",
       "      <td>-1.46210</td>\n",
       "      <td>0</td>\n",
       "    </tr>\n",
       "    <tr>\n",
       "      <th>2</th>\n",
       "      <td>3.86600</td>\n",
       "      <td>-2.6383</td>\n",
       "      <td>1.9242</td>\n",
       "      <td>0.10645</td>\n",
       "      <td>0</td>\n",
       "    </tr>\n",
       "    <tr>\n",
       "      <th>3</th>\n",
       "      <td>3.45660</td>\n",
       "      <td>9.5228</td>\n",
       "      <td>-4.0112</td>\n",
       "      <td>-3.59440</td>\n",
       "      <td>0</td>\n",
       "    </tr>\n",
       "    <tr>\n",
       "      <th>4</th>\n",
       "      <td>0.32924</td>\n",
       "      <td>-4.4552</td>\n",
       "      <td>4.5718</td>\n",
       "      <td>-0.98880</td>\n",
       "      <td>0</td>\n",
       "    </tr>\n",
       "  </tbody>\n",
       "</table>\n",
       "</div>"
      ],
      "text/plain": [
       "   variance    skew  curtosis  entropy  class\n",
       "0   3.62160  8.6661   -2.8073 -0.44699      0\n",
       "1   4.54590  8.1674   -2.4586 -1.46210      0\n",
       "2   3.86600 -2.6383    1.9242  0.10645      0\n",
       "3   3.45660  9.5228   -4.0112 -3.59440      0\n",
       "4   0.32924 -4.4552    4.5718 -0.98880      0"
      ]
     },
     "execution_count": 2,
     "metadata": {},
     "output_type": "execute_result"
    }
   ],
   "source": [
    "banknote = pd.read_csv(\"/Users/brandonk87/Downloads/MSC 641/SVM/Banknote_authentication.csv\")\n",
    "banknote.head()"
   ]
  },
  {
   "cell_type": "code",
   "execution_count": 3,
   "id": "9478afea",
   "metadata": {},
   "outputs": [
    {
     "name": "stderr",
     "output_type": "stream",
     "text": [
      "/Users/brandonk87/opt/anaconda3/lib/python3.9/site-packages/scipy/__init__.py:146: UserWarning: A NumPy version >=1.16.5 and <1.23.0 is required for this version of SciPy (detected version 1.24.2\n",
      "  warnings.warn(f\"A NumPy version >={np_minversion} and <{np_maxversion}\"\n"
     ]
    }
   ],
   "source": [
    "from sklearn.model_selection import train_test_split\n",
    "from sklearn.preprocessing import StandardScaler\n",
    "x = banknote.iloc[:, :4]\n",
    "y = banknote.iloc[:, 4]\n",
    "x_train, x_test, y_train, y_test = train_test_split(x, y, test_size=0.20, random_state = 13)\n",
    "sc = StandardScaler()\n",
    "x_train = sc.fit_transform(x_train)\n",
    "x_test = sc.transform(x_test)"
   ]
  },
  {
   "cell_type": "markdown",
   "id": "3f341161",
   "metadata": {},
   "source": [
    "# Question 2"
   ]
  },
  {
   "cell_type": "code",
   "execution_count": 8,
   "id": "4ee80c5d",
   "metadata": {},
   "outputs": [],
   "source": [
    "from sklearn.svm import SVC\n",
    "svm = SVC(C=1,kernel='rbf',random_state =13)\n",
    "    # C is the regularization parameter (default = 1)\n",
    "    # kernal can be rbf (default), linear or poly\n",
    "    # degree only used with poly kernal (default is 3) \n",
    "svm.fit(x_train,y_train)\n",
    "pred_test = svm.predict(x_test)"
   ]
  },
  {
   "cell_type": "code",
   "execution_count": 9,
   "id": "e074ca27",
   "metadata": {},
   "outputs": [
    {
     "name": "stdout",
     "output_type": "stream",
     "text": [
      "[[155   0]\n",
      " [  0 120]]\n",
      "The FNR is: 0.0\n",
      "The FPR is: 0.0\n",
      "Classification accuracy is 1.0\n",
      "The MR is: 0.0\n"
     ]
    }
   ],
   "source": [
    "from sklearn.metrics import confusion_matrix\n",
    "from sklearn.metrics import accuracy_score\n",
    "cm = confusion_matrix(y_test, pred_test)\n",
    "TN = cm[0,0]\n",
    "FN = cm[0,1]\n",
    "FP = cm[1,0]\n",
    "TP = cm[1,1]\n",
    "print(cm)\n",
    "print(\"The FNR is:\", FN/(TP+FN))\n",
    "print(\"The FPR is:\",FP/(FP+TN))\n",
    "print(\"Classification accuracy is\",accuracy_score(pred_test,y_test))\n",
    "print(\"The MR is:\",(FP + FN)/len(y_test))"
   ]
  },
  {
   "cell_type": "markdown",
   "id": "099f8835",
   "metadata": {},
   "source": [
    "# Question 3"
   ]
  },
  {
   "cell_type": "code",
   "execution_count": 10,
   "id": "7cdee667",
   "metadata": {},
   "outputs": [],
   "source": [
    "from sklearn.model_selection import KFold\n",
    "from statistics import mean\n",
    "\n",
    "cv = KFold(n_splits=5, shuffle=True, random_state=13)\n",
    "\n",
    "model_name = ['rbf', 'linear', 'poly_2', 'poly_3', 'poly_4']\n",
    "model_accuracy = []\n",
    "\n",
    "# rbf model \n",
    "svm = SVC(C=1,kernel='rbf',random_state =13)\n",
    "accuracy = []\n",
    "for train_index, test_index in cv.split(banknote):\n",
    "    x_train, x_test = x.iloc[train_index], x.iloc[test_index]\n",
    "    y_train, y_test = y.iloc[train_index], y.iloc[test_index]\n",
    "    svm.fit(x_train, y_train)\n",
    "    pred_test = svm.predict(x_test)\n",
    "    accuracy.append(accuracy_score(pred_test,y_test))\n",
    "model_accuracy.append(mean(accuracy))\n",
    "    \n",
    "# linear model \n",
    "svm = SVC(C=1,kernel='linear',random_state =13)\n",
    "accuracy = []\n",
    "for train_index, test_index in cv.split(banknote):\n",
    "    x_train, x_test = x.iloc[train_index], x.iloc[test_index]\n",
    "    y_train, y_test = y.iloc[train_index], y.iloc[test_index]\n",
    "    svm.fit(x_train, y_train)\n",
    "    pred_test = svm.predict(x_test)\n",
    "    accuracy.append(accuracy_score(pred_test,y_test)) \n",
    "model_accuracy.append(mean(accuracy))\n",
    "\n",
    "# poly_2 model \n",
    "svm = SVC(C=1,kernel='poly',random_state =13, degree = 2)\n",
    "accuracy = []\n",
    "for train_index, test_index in cv.split(banknote):\n",
    "    x_train, x_test = x.iloc[train_index], x.iloc[test_index]\n",
    "    y_train, y_test = y.iloc[train_index], y.iloc[test_index]\n",
    "    svm.fit(x_train, y_train)\n",
    "    pred_test = svm.predict(x_test)\n",
    "    accuracy.append(accuracy_score(pred_test,y_test))\n",
    "model_accuracy.append(mean(accuracy))\n",
    "\n",
    "# poly_3 model \n",
    "svm = SVC(C=1,kernel='poly',random_state =13, degree = 3)\n",
    "accuracy = []\n",
    "for train_index, test_index in cv.split(banknote):\n",
    "    x_train, x_test = x.iloc[train_index], x.iloc[test_index]\n",
    "    y_train, y_test = y.iloc[train_index], y.iloc[test_index]\n",
    "    svm.fit(x_train, y_train)\n",
    "    pred_test = svm.predict(x_test)\n",
    "    accuracy.append(accuracy_score(pred_test,y_test)) \n",
    "model_accuracy.append(mean(accuracy))\n",
    "\n",
    "# poly_4 model \n",
    "svm = SVC(C=1,kernel='poly',random_state =13, degree = 4)\n",
    "accuracy = []\n",
    "for train_index, test_index in cv.split(banknote):\n",
    "    x_train, x_test = x.iloc[train_index], x.iloc[test_index]\n",
    "    y_train, y_test = y.iloc[train_index], y.iloc[test_index]\n",
    "    svm.fit(x_train, y_train)\n",
    "    pred_test = svm.predict(x_test)\n",
    "    accuracy.append(accuracy_score(pred_test,y_test)) \n",
    "model_accuracy.append(mean(accuracy))"
   ]
  },
  {
   "cell_type": "code",
   "execution_count": 11,
   "id": "2eef783a",
   "metadata": {},
   "outputs": [
    {
     "data": {
      "text/html": [
       "<div>\n",
       "<style scoped>\n",
       "    .dataframe tbody tr th:only-of-type {\n",
       "        vertical-align: middle;\n",
       "    }\n",
       "\n",
       "    .dataframe tbody tr th {\n",
       "        vertical-align: top;\n",
       "    }\n",
       "\n",
       "    .dataframe thead th {\n",
       "        text-align: right;\n",
       "    }\n",
       "</style>\n",
       "<table border=\"1\" class=\"dataframe\">\n",
       "  <thead>\n",
       "    <tr style=\"text-align: right;\">\n",
       "      <th></th>\n",
       "      <th>Function</th>\n",
       "      <th>Accuracy</th>\n",
       "    </tr>\n",
       "  </thead>\n",
       "  <tbody>\n",
       "    <tr>\n",
       "      <th>0</th>\n",
       "      <td>rbf</td>\n",
       "      <td>0.996358</td>\n",
       "    </tr>\n",
       "    <tr>\n",
       "      <th>1</th>\n",
       "      <td>linear</td>\n",
       "      <td>0.988334</td>\n",
       "    </tr>\n",
       "    <tr>\n",
       "      <th>2</th>\n",
       "      <td>poly_2</td>\n",
       "      <td>0.973768</td>\n",
       "    </tr>\n",
       "    <tr>\n",
       "      <th>3</th>\n",
       "      <td>poly_3</td>\n",
       "      <td>0.967939</td>\n",
       "    </tr>\n",
       "    <tr>\n",
       "      <th>4</th>\n",
       "      <td>poly_4</td>\n",
       "      <td>0.884820</td>\n",
       "    </tr>\n",
       "  </tbody>\n",
       "</table>\n",
       "</div>"
      ],
      "text/plain": [
       "  Function  Accuracy\n",
       "0      rbf  0.996358\n",
       "1   linear  0.988334\n",
       "2   poly_2  0.973768\n",
       "3   poly_3  0.967939\n",
       "4   poly_4  0.884820"
      ]
     },
     "execution_count": 11,
     "metadata": {},
     "output_type": "execute_result"
    }
   ],
   "source": [
    "optimal_function = pd.DataFrame({'Function': model_name, 'Accuracy': model_accuracy})\n",
    "optimal_function"
   ]
  },
  {
   "cell_type": "code",
   "execution_count": 12,
   "id": "63b326d0",
   "metadata": {},
   "outputs": [
    {
     "data": {
      "image/png": "[encoded data removed]",
      "text/plain": [
       "<Figure size 432x288 with 1 Axes>"
      ]
     },
     "metadata": {
      "needs_background": "light"
     },
     "output_type": "display_data"
    }
   ],
   "source": [
    "plt.plot(model_name, model_accuracy, marker='o')\n",
    "plt.xlabel('Function')\n",
    "plt.ylabel('Accuracy')\n",
    "plt.title('CV accuracy of various SVM functions')\n",
    "plt.show()"
   ]
  },
  {
   "cell_type": "code",
   "execution_count": 22,
   "id": "aa6b7da7",
   "metadata": {},
   "outputs": [
    {
     "name": "stdout",
     "output_type": "stream",
     "text": [
      "The overall accuracy is:  0.9963583278035832\n",
      "The overall FNR is:  0.008167566812169638\n",
      "The overall FPR is:  0.0\n",
      "The overall MR is:  0.003641672196416722\n"
     ]
    }
   ],
   "source": [
    "# The optimal model is the rbf model becuase it has the highest accuracy\n",
    "cv = KFold(n_splits=5, shuffle=True, random_state=13)\n",
    "svm = SVC(C=1,kernel='rbf',random_state =13)\n",
    "accuracy = []\n",
    "FNR = []\n",
    "FPR = []\n",
    "MR = []\n",
    "\n",
    "for train_index, test_index in cv.split(banknote):\n",
    "    x_train, x_test = x.iloc[train_index], x.iloc[test_index]\n",
    "    y_train, y_test = y.iloc[train_index], y.iloc[test_index]\n",
    "    svm.fit(x_train, y_train)\n",
    "    pred_test = svm.predict(x_test)\n",
    "    accuracy.append(accuracy_score(pred_test,y_test))\n",
    "    cm = confusion_matrix(y_test, pred_test)\n",
    "    TN = cm[0,0]\n",
    "    FN = cm[0,1]\n",
    "    FP = cm[1,0]\n",
    "    TP = cm[1,1]\n",
    "    FNR.append(FN/(TP+FN))\n",
    "    FPR.append(FP/(FP+TN))\n",
    "    MR.append((FP + FN)/len(y_test))    \n",
    "print(\"The overall accuracy is: \",mean(accuracy))\n",
    "print(\"The overall FNR is: \",mean(FNR))\n",
    "print(\"The overall FPR is: \",mean(FPR))\n",
    "print(\"The overall MR is: \",mean(MR))"
   ]
  },
  {
   "cell_type": "markdown",
   "id": "02646d4e",
   "metadata": {},
   "source": [
    "# Question 4"
   ]
  },
  {
   "cell_type": "code",
   "execution_count": 23,
   "id": "0d5f76aa",
   "metadata": {},
   "outputs": [],
   "source": [
    "cv = KFold(n_splits=5, shuffle=True, random_state=13)\n",
    "\n",
    "C_accuracy = []\n",
    "\n",
    "for i in (0.01, 0.03, 0.05, 0.1, 0.3, 0.5, 1, 3):\n",
    "    svm = SVC(C=i,kernel='rbf',random_state =13)\n",
    "    accuracy = []\n",
    "    for train_index, test_index in cv.split(banknote):\n",
    "        x_train, x_test = x.iloc[train_index], x.iloc[test_index]\n",
    "        y_train, y_test = y.iloc[train_index], y.iloc[test_index]\n",
    "        svm.fit(x_train, y_train)\n",
    "        pred_test = svm.predict(x_test)\n",
    "        accuracy.append(accuracy_score(pred_test,y_test))\n",
    "    C_accuracy.append(mean(accuracy))"
   ]
  },
  {
   "cell_type": "code",
   "execution_count": 29,
   "id": "81bb9ad3",
   "metadata": {},
   "outputs": [
    {
     "data": {
      "text/html": [
       "<div>\n",
       "<style scoped>\n",
       "    .dataframe tbody tr th:only-of-type {\n",
       "        vertical-align: middle;\n",
       "    }\n",
       "\n",
       "    .dataframe tbody tr th {\n",
       "        vertical-align: top;\n",
       "    }\n",
       "\n",
       "    .dataframe thead th {\n",
       "        text-align: right;\n",
       "    }\n",
       "</style>\n",
       "<table border=\"1\" class=\"dataframe\">\n",
       "  <thead>\n",
       "    <tr style=\"text-align: right;\">\n",
       "      <th></th>\n",
       "      <th>C Value</th>\n",
       "      <th>Accuracy</th>\n",
       "    </tr>\n",
       "  </thead>\n",
       "  <tbody>\n",
       "    <tr>\n",
       "      <th>0</th>\n",
       "      <td>0.01</td>\n",
       "      <td>0.962100</td>\n",
       "    </tr>\n",
       "    <tr>\n",
       "      <th>1</th>\n",
       "      <td>0.03</td>\n",
       "      <td>0.983238</td>\n",
       "    </tr>\n",
       "    <tr>\n",
       "      <th>2</th>\n",
       "      <td>0.05</td>\n",
       "      <td>0.983968</td>\n",
       "    </tr>\n",
       "    <tr>\n",
       "      <th>3</th>\n",
       "      <td>0.10</td>\n",
       "      <td>0.988342</td>\n",
       "    </tr>\n",
       "    <tr>\n",
       "      <th>4</th>\n",
       "      <td>0.30</td>\n",
       "      <td>0.992717</td>\n",
       "    </tr>\n",
       "    <tr>\n",
       "      <th>5</th>\n",
       "      <td>0.50</td>\n",
       "      <td>0.994904</td>\n",
       "    </tr>\n",
       "    <tr>\n",
       "      <th>6</th>\n",
       "      <td>1.00</td>\n",
       "      <td>0.996358</td>\n",
       "    </tr>\n",
       "    <tr>\n",
       "      <th>7</th>\n",
       "      <td>3.00</td>\n",
       "      <td>1.000000</td>\n",
       "    </tr>\n",
       "  </tbody>\n",
       "</table>\n",
       "</div>"
      ],
      "text/plain": [
       "   C Value  Accuracy\n",
       "0     0.01  0.962100\n",
       "1     0.03  0.983238\n",
       "2     0.05  0.983968\n",
       "3     0.10  0.988342\n",
       "4     0.30  0.992717\n",
       "5     0.50  0.994904\n",
       "6     1.00  0.996358\n",
       "7     3.00  1.000000"
      ]
     },
     "execution_count": 29,
     "metadata": {},
     "output_type": "execute_result"
    }
   ],
   "source": [
    "C_values = [0.01, 0.03, 0.05, 0.1, 0.3, 0.5, 1, 3]\n",
    "optimal_C = pd.DataFrame({'C Value': C_values, 'Accuracy': C_accuracy})\n",
    "optimal_C"
   ]
  },
  {
   "cell_type": "code",
   "execution_count": 25,
   "id": "558f7d35",
   "metadata": {},
   "outputs": [
    {
     "data": {
      "image/png": "[encoded data removed]",
      "text/plain": [
       "<Figure size 432x288 with 1 Axes>"
      ]
     },
     "metadata": {
      "needs_background": "light"
     },
     "output_type": "display_data"
    }
   ],
   "source": [
    "plt.plot(['0.01', '0.03', '0.05', '0.1', '0.3', '0.5', '1', '3'], C_accuracy, marker='o')\n",
    "plt.xlabel('Function')\n",
    "plt.ylabel('Accuracy')\n",
    "plt.title('CV accuracy of various SVM functions')\n",
    "plt.show()"
   ]
  },
  {
   "cell_type": "code",
   "execution_count": 26,
   "id": "504e4139",
   "metadata": {},
   "outputs": [
    {
     "name": "stdout",
     "output_type": "stream",
     "text": [
      "The overall accuracy is:  1.0\n",
      "The overall FNR is:  0.0\n",
      "The overall FPR is:  0.0\n",
      "The overall MR is:  0.0\n"
     ]
    }
   ],
   "source": [
    "# The optimal C is 3  becuase it has the highest accuracy\n",
    "cv = KFold(n_splits=5, shuffle=True, random_state=13)\n",
    "svm = SVC(C=3,kernel='rbf',random_state =13)\n",
    "accuracy = []\n",
    "FNR = []\n",
    "FPR = []\n",
    "MR = []\n",
    "\n",
    "for train_index, test_index in cv.split(banknote):\n",
    "    x_train, x_test = x.iloc[train_index], x.iloc[test_index]\n",
    "    y_train, y_test = y.iloc[train_index], y.iloc[test_index]\n",
    "    svm.fit(x_train, y_train)\n",
    "    pred_test = svm.predict(x_test)\n",
    "    accuracy.append(accuracy_score(pred_test,y_test))\n",
    "    cm = confusion_matrix(y_test, pred_test)\n",
    "    TN = cm[0,0]\n",
    "    FN = cm[0,1]\n",
    "    FP = cm[1,0]\n",
    "    TP = cm[1,1]\n",
    "    FNR.append(FN/(TP+FN))\n",
    "    FPR.append(FP/(FP+TN))\n",
    "    MR.append((FP + FN)/len(y_test))    \n",
    "print(\"The overall accuracy is: \",mean(accuracy))\n",
    "print(\"The overall FNR is: \",mean(FNR))\n",
    "print(\"The overall FPR is: \",mean(FPR))\n",
    "print(\"The overall MR is: \",mean(MR))"
   ]
  },
  {
   "cell_type": "markdown",
   "id": "2b045ea8",
   "metadata": {},
   "source": [
    "# Question 5"
   ]
  },
  {
   "cell_type": "code",
   "execution_count": 18,
   "id": "d09e5367",
   "metadata": {},
   "outputs": [],
   "source": [
    "# reset the train and test values\n",
    "x = banknote.iloc[:, :4]\n",
    "y = banknote.iloc[:, 4]\n",
    "x_train, x_test, y_train, y_test = train_test_split(x, y, test_size=0.20, random_state = 13)"
   ]
  },
  {
   "cell_type": "code",
   "execution_count": 19,
   "id": "4ee91d28",
   "metadata": {},
   "outputs": [
    {
     "name": "stdout",
     "output_type": "stream",
     "text": [
      "Optimization terminated successfully.\n",
      "         Current function value: 0.020203\n",
      "         Iterations 14\n",
      "[[155   0]\n",
      " [  0 120]]\n",
      "The FNR is: 0.0\n",
      "The FPR is: 0.0\n",
      "Classification accuracy is 1.0\n",
      "The MR is: 0.0\n"
     ]
    }
   ],
   "source": [
    "import statsmodels.api as sm\n",
    "model = sm.Logit(y_train, sm.add_constant(x_train))\n",
    "lr = model.fit()\n",
    "p_pred = lr.predict(sm.add_constant(x_test))\n",
    "pred_test = round(p_pred)\n",
    "cm = confusion_matrix(y_test, pred_test)\n",
    "TN = cm[0,0]\n",
    "FN = cm[0,1]\n",
    "FP = cm[1,0]\n",
    "TP = cm[1,1]\n",
    "print(cm)\n",
    "print(\"The FNR is:\", FN/(TP+FN))\n",
    "print(\"The FPR is:\",FP/(FP+TN))\n",
    "print(\"Classification accuracy is\",accuracy_score(pred_test,y_test))\n",
    "print(\"The MR is:\",(FP + FN)/len(y_test))"
   ]
  }
 ],
 "metadata": {
  "kernelspec": {
   "display_name": "Python 3 (ipykernel)",
   "language": "python",
   "name": "python3"
  },
  "language_info": {
   "codemirror_mode": {
    "name": "ipython",
    "version": 3
   },
   "file_extension": ".py",
   "mimetype": "text/x-python",
   "name": "python",
   "nbconvert_exporter": "python",
   "pygments_lexer": "ipython3",
   "version": "3.9.12"
  }
 },
 "nbformat": 4,
 "nbformat_minor": 5
}
