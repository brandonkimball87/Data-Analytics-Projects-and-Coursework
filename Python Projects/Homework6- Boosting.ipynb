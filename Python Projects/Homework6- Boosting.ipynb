{
 "cells": [
  {
   "cell_type": "code",
   "execution_count": 1,
   "id": "27cdeb1b",
   "metadata": {},
   "outputs": [],
   "source": [
    "import pandas as pd\n",
    "import numpy as np\n",
    "import matplotlib.pyplot as plt"
   ]
  },
  {
   "cell_type": "markdown",
   "id": "b590d8ae",
   "metadata": {},
   "source": [
    "# Question 1- load data and train test split"
   ]
  },
  {
   "cell_type": "code",
   "execution_count": 43,
   "id": "3a9744ec",
   "metadata": {},
   "outputs": [
    {
     "data": {
      "text/html": [
       "<div>\n",
       "<style scoped>\n",
       "    .dataframe tbody tr th:only-of-type {\n",
       "        vertical-align: middle;\n",
       "    }\n",
       "\n",
       "    .dataframe tbody tr th {\n",
       "        vertical-align: top;\n",
       "    }\n",
       "\n",
       "    .dataframe thead th {\n",
       "        text-align: right;\n",
       "    }\n",
       "</style>\n",
       "<table border=\"1\" class=\"dataframe\">\n",
       "  <thead>\n",
       "    <tr style=\"text-align: right;\">\n",
       "      <th></th>\n",
       "      <th>DLRSN</th>\n",
       "      <th>R1</th>\n",
       "      <th>R2</th>\n",
       "      <th>R3</th>\n",
       "      <th>R4</th>\n",
       "      <th>R5</th>\n",
       "      <th>R6</th>\n",
       "      <th>R7</th>\n",
       "      <th>R8</th>\n",
       "      <th>R9</th>\n",
       "      <th>R10</th>\n",
       "    </tr>\n",
       "  </thead>\n",
       "  <tbody>\n",
       "    <tr>\n",
       "      <th>0</th>\n",
       "      <td>0</td>\n",
       "      <td>0.307139</td>\n",
       "      <td>0.887006</td>\n",
       "      <td>1.647681</td>\n",
       "      <td>-0.199158</td>\n",
       "      <td>1.092964</td>\n",
       "      <td>-0.313289</td>\n",
       "      <td>-0.196793</td>\n",
       "      <td>1.206763</td>\n",
       "      <td>0.282471</td>\n",
       "      <td>0.158896</td>\n",
       "    </tr>\n",
       "    <tr>\n",
       "      <th>1</th>\n",
       "      <td>0</td>\n",
       "      <td>0.760736</td>\n",
       "      <td>0.592493</td>\n",
       "      <td>0.453003</td>\n",
       "      <td>-0.369890</td>\n",
       "      <td>0.186154</td>\n",
       "      <td>0.039619</td>\n",
       "      <td>0.327497</td>\n",
       "      <td>0.428418</td>\n",
       "      <td>1.106965</td>\n",
       "      <td>0.793443</td>\n",
       "    </tr>\n",
       "    <tr>\n",
       "      <th>2</th>\n",
       "      <td>0</td>\n",
       "      <td>-0.513596</td>\n",
       "      <td>0.337615</td>\n",
       "      <td>0.299015</td>\n",
       "      <td>-0.029080</td>\n",
       "      <td>-0.432605</td>\n",
       "      <td>0.829993</td>\n",
       "      <td>-0.707786</td>\n",
       "      <td>0.476153</td>\n",
       "      <td>2.179175</td>\n",
       "      <td>2.484584</td>\n",
       "    </tr>\n",
       "    <tr>\n",
       "      <th>3</th>\n",
       "      <td>1</td>\n",
       "      <td>-0.466129</td>\n",
       "      <td>0.370747</td>\n",
       "      <td>0.496067</td>\n",
       "      <td>-0.373429</td>\n",
       "      <td>-0.267424</td>\n",
       "      <td>0.977799</td>\n",
       "      <td>-0.610975</td>\n",
       "      <td>0.456810</td>\n",
       "      <td>0.151951</td>\n",
       "      <td>0.047789</td>\n",
       "    </tr>\n",
       "    <tr>\n",
       "      <th>4</th>\n",
       "      <td>0</td>\n",
       "      <td>2.023422</td>\n",
       "      <td>0.214876</td>\n",
       "      <td>0.182595</td>\n",
       "      <td>6.695360</td>\n",
       "      <td>-1.148338</td>\n",
       "      <td>-1.505889</td>\n",
       "      <td>2.876477</td>\n",
       "      <td>0.287375</td>\n",
       "      <td>-0.986442</td>\n",
       "      <td>0.791077</td>\n",
       "    </tr>\n",
       "  </tbody>\n",
       "</table>\n",
       "</div>"
      ],
      "text/plain": [
       "   DLRSN        R1        R2        R3        R4        R5        R6  \\\n",
       "0      0  0.307139  0.887006  1.647681 -0.199158  1.092964 -0.313289   \n",
       "1      0  0.760736  0.592493  0.453003 -0.369890  0.186154  0.039619   \n",
       "2      0 -0.513596  0.337615  0.299015 -0.029080 -0.432605  0.829993   \n",
       "3      1 -0.466129  0.370747  0.496067 -0.373429 -0.267424  0.977799   \n",
       "4      0  2.023422  0.214876  0.182595  6.695360 -1.148338 -1.505889   \n",
       "\n",
       "         R7        R8        R9       R10  \n",
       "0 -0.196793  1.206763  0.282471  0.158896  \n",
       "1  0.327497  0.428418  1.106965  0.793443  \n",
       "2 -0.707786  0.476153  2.179175  2.484584  \n",
       "3 -0.610975  0.456810  0.151951  0.047789  \n",
       "4  2.876477  0.287375 -0.986442  0.791077  "
      ]
     },
     "execution_count": 43,
     "metadata": {},
     "output_type": "execute_result"
    }
   ],
   "source": [
    "bankruptcy = pd.read_csv(\"/Users/brandonk87/Downloads/MSC 641/Boosting/bankruptcy-1.csv\")\n",
    "bankruptcy = bankruptcy.iloc[:, [1,3,4,5,6,7,8,9,10,11,12]]\n",
    "bankruptcy.head()"
   ]
  },
  {
   "cell_type": "code",
   "execution_count": 44,
   "id": "36e30df6",
   "metadata": {},
   "outputs": [],
   "source": [
    "from sklearn.model_selection import train_test_split\n",
    "x = bankruptcy.iloc[:, 1:]\n",
    "y = bankruptcy[[\"DLRSN\"]]\n",
    "x_train, x_test, y_train, y_test = train_test_split(x, y, test_size=0.20, random_state = 13)"
   ]
  },
  {
   "cell_type": "markdown",
   "id": "f66a85c9",
   "metadata": {},
   "source": [
    "# Question 2- Ada Boost"
   ]
  },
  {
   "cell_type": "code",
   "execution_count": 45,
   "id": "0a912f4e",
   "metadata": {},
   "outputs": [
    {
     "name": "stderr",
     "output_type": "stream",
     "text": [
      "/Users/brandonk87/opt/anaconda3/lib/python3.9/site-packages/sklearn/utils/validation.py:1111: DataConversionWarning: A column-vector y was passed when a 1d array was expected. Please change the shape of y to (n_samples, ), for example using ravel().\n",
      "  y = column_or_1d(y, warn=True)\n"
     ]
    },
    {
     "name": "stdout",
     "output_type": "stream",
     "text": [
      "Test accuracy: 0.875\n"
     ]
    }
   ],
   "source": [
    "from sklearn.ensemble import AdaBoostClassifier, AdaBoostRegressor\n",
    "from sklearn.metrics import mean_squared_error, accuracy_score\n",
    "\n",
    "boost = AdaBoostClassifier(n_estimators=50,random_state=13, algorithm = 'SAMME')\n",
    "    # Define the function\n",
    "    # Default is a tree model with one layer (can be changed by max_depth=n)\n",
    "    # n_estimators is the number of trees that are built\n",
    "    # learning_rate is the regularization, not necessary for ada boost\n",
    "    # algorithm SAMME uses classification, SAMME.R (default) uses probability estimates\n",
    "    # base_estimator is how you define the type of algorithm (default is a decision tree)\n",
    "        # so do base_estimator = LogisticRegression() if you wanted logistic regression instead\n",
    "\n",
    "boost.fit(x_train,y_train) # Apply model to train data\n",
    "pred_test = boost.predict(x_test) # Predicting on the test set\n",
    "print(\"Test accuracy:\",accuracy_score(pred_test,y_test)) "
   ]
  },
  {
   "cell_type": "code",
   "execution_count": 46,
   "id": "a86e62b4",
   "metadata": {},
   "outputs": [
    {
     "name": "stdout",
     "output_type": "stream",
     "text": [
      "[1.79767506 1.20906141 0.68487611 0.23709744 0.35134237 0.27439423\n",
      " 0.21872825 0.13518658 0.12661597 0.11906851 0.11237112 0.10638771\n",
      " 0.10100979 0.09614983 0.09173636 0.08771054 0.21833843 0.28710815\n",
      " 0.36206244 0.3816895  0.11794223 0.08277867 0.07948695 0.07644714\n",
      " 0.07363136 0.07101573 0.06857963 0.06630517 0.06417679 0.11038351\n",
      " 0.14734863 0.21460898 0.10537429 0.05832084 0.11123922 0.14086398\n",
      " 0.05536722 0.05387538 0.05246185 0.05112061 0.04984625 0.0486339\n",
      " 0.04747913 0.04637793 0.04532667 0.04432202 0.04336094 0.16491635\n",
      " 0.22355003 0.0443694 ]\n",
      "[0.14213431 0.22986717 0.33517388 0.44100176 0.41305694 0.43182864\n",
      " 0.44553491 0.46625473 0.46838823 0.47026799 0.47193674 0.47342813\n",
      " 0.474769   0.47598104 0.47708198 0.47808641 0.44563121 0.42871199\n",
      " 0.4104604  0.40571948 0.47054857 0.47931714 0.48013872 0.48089752\n",
      " 0.48160047 0.48225352 0.48286181 0.48342978 0.48396131 0.47243211\n",
      " 0.46322935 0.44655273 0.47368078 0.48542392 0.47221884 0.46484212\n",
      " 0.48616173 0.48653441 0.48688755 0.48722263 0.48754102 0.48784392\n",
      " 0.48813245 0.48840759 0.48867027 0.48892131 0.48916146 0.4588641\n",
      " 0.44434408 0.48890947]\n"
     ]
    }
   ],
   "source": [
    "print(boost.estimator_weights_) # Weights for the 50 estimators\n",
    "print(boost.estimator_errors_) # error % for the 50 estimators"
   ]
  },
  {
   "cell_type": "code",
   "execution_count": 6,
   "id": "e8d35d08",
   "metadata": {},
   "outputs": [
    {
     "name": "stdout",
     "output_type": "stream",
     "text": [
      "R1     0.000000\n",
      "R2     0.060712\n",
      "R3     0.000000\n",
      "R4     0.000000\n",
      "R5     0.000000\n",
      "R6     0.083292\n",
      "R7     0.023388\n",
      "R8     0.047292\n",
      "R9     0.000000\n",
      "R10    0.785315\n",
      "dtype: float64\n"
     ]
    },
    {
     "data": {
      "text/plain": [
       "<BarContainer object of 10 artists>"
      ]
     },
     "execution_count": 6,
     "metadata": {},
     "output_type": "execute_result"
    },
    {
     "data": {
      "image/png": "[encoded data removed]",
      "text/plain": [
       "<Figure size 432x288 with 1 Axes>"
      ]
     },
     "metadata": {
      "needs_background": "light"
     },
     "output_type": "display_data"
    }
   ],
   "source": [
    "column_names = x_test.columns\n",
    "col_len = len(x_test.columns)\n",
    "# Feature importance\n",
    "print(pd.Series(boost.feature_importances_.reshape(col_len,), index=column_names))\n",
    "plt.bar(column_names, boost.feature_importances_)"
   ]
  },
  {
   "cell_type": "code",
   "execution_count": 7,
   "id": "47468f1b",
   "metadata": {},
   "outputs": [
    {
     "name": "stdout",
     "output_type": "stream",
     "text": [
      "[[881  49]\n",
      " [ 87  71]]\n",
      "The FNR is: 0.4083333333333333\n",
      "The FPR is: 0.08987603305785125\n",
      "The MR is: 0.125\n"
     ]
    }
   ],
   "source": [
    "# Metrics for the model\n",
    "from sklearn.metrics import confusion_matrix\n",
    "cm = confusion_matrix(y_test, pred_test)\n",
    "TN = cm[0,0]\n",
    "FN = cm[0,1]\n",
    "FP = cm[1,0]\n",
    "TP = cm[1,1]\n",
    "print(cm)\n",
    "print(\"The FNR is:\", FN/(TP+FN))\n",
    "print(\"The FPR is:\",FP/(FP+TN))\n",
    "print(\"The MR is:\",(FP + FN)/len(y_test))"
   ]
  },
  {
   "cell_type": "code",
   "execution_count": 8,
   "id": "9c134bdb",
   "metadata": {},
   "outputs": [
    {
     "name": "stdout",
     "output_type": "stream",
     "text": [
      "AUC: 0.8799441949094868\n"
     ]
    },
    {
     "data": {
      "image/png": "[encoded data removed]",
      "text/plain": [
       "<Figure size 432x288 with 1 Axes>"
      ]
     },
     "metadata": {
      "needs_background": "light"
     },
     "output_type": "display_data"
    }
   ],
   "source": [
    "from sklearn.metrics import roc_curve, roc_auc_score\n",
    "from sklearn import metrics\n",
    "pred_test_prob = boost.predict_proba(x_test)\n",
    "mr_probs = [0 for _ in range(len(y_test))]\n",
    "mr_fpr, mr_tpr, _ = roc_curve(y_test, mr_probs)\n",
    "lr_fpr, lr_tpr, _ = roc_curve(y_test, pred_test_prob[:,1])\n",
    "plt.plot(mr_fpr, mr_tpr, linestyle='--')\n",
    "plt.plot(lr_fpr, lr_tpr, marker='.')\n",
    "plt.xlabel('False Positive Rate')\n",
    "plt.ylabel('True Positive Rate')\n",
    "print(\"AUC:\",metrics.auc(lr_fpr, lr_tpr))"
   ]
  },
  {
   "cell_type": "markdown",
   "id": "5cf7d9b2",
   "metadata": {},
   "source": [
    "# Question 3- trying different number of trees using CV"
   ]
  },
  {
   "cell_type": "code",
   "execution_count": 9,
   "id": "be6d4597",
   "metadata": {
    "collapsed": true
   },
   "outputs": [
    {
     "name": "stderr",
     "output_type": "stream",
     "text": [
      "/Users/brandonk87/opt/anaconda3/lib/python3.9/site-packages/sklearn/utils/validation.py:1111: DataConversionWarning: A column-vector y was passed when a 1d array was expected. Please change the shape of y to (n_samples, ), for example using ravel().\n",
      "  y = column_or_1d(y, warn=True)\n",
      "/Users/brandonk87/opt/anaconda3/lib/python3.9/site-packages/sklearn/utils/validation.py:1111: DataConversionWarning: A column-vector y was passed when a 1d array was expected. Please change the shape of y to (n_samples, ), for example using ravel().\n",
      "  y = column_or_1d(y, warn=True)\n",
      "/Users/brandonk87/opt/anaconda3/lib/python3.9/site-packages/sklearn/utils/validation.py:1111: DataConversionWarning: A column-vector y was passed when a 1d array was expected. Please change the shape of y to (n_samples, ), for example using ravel().\n",
      "  y = column_or_1d(y, warn=True)\n",
      "/Users/brandonk87/opt/anaconda3/lib/python3.9/site-packages/sklearn/utils/validation.py:1111: DataConversionWarning: A column-vector y was passed when a 1d array was expected. Please change the shape of y to (n_samples, ), for example using ravel().\n",
      "  y = column_or_1d(y, warn=True)\n",
      "/Users/brandonk87/opt/anaconda3/lib/python3.9/site-packages/sklearn/utils/validation.py:1111: DataConversionWarning: A column-vector y was passed when a 1d array was expected. Please change the shape of y to (n_samples, ), for example using ravel().\n",
      "  y = column_or_1d(y, warn=True)\n",
      "/Users/brandonk87/opt/anaconda3/lib/python3.9/site-packages/sklearn/utils/validation.py:1111: DataConversionWarning: A column-vector y was passed when a 1d array was expected. Please change the shape of y to (n_samples, ), for example using ravel().\n",
      "  y = column_or_1d(y, warn=True)\n",
      "/Users/brandonk87/opt/anaconda3/lib/python3.9/site-packages/sklearn/utils/validation.py:1111: DataConversionWarning: A column-vector y was passed when a 1d array was expected. Please change the shape of y to (n_samples, ), for example using ravel().\n",
      "  y = column_or_1d(y, warn=True)\n",
      "/Users/brandonk87/opt/anaconda3/lib/python3.9/site-packages/sklearn/utils/validation.py:1111: DataConversionWarning: A column-vector y was passed when a 1d array was expected. Please change the shape of y to (n_samples, ), for example using ravel().\n",
      "  y = column_or_1d(y, warn=True)\n",
      "/Users/brandonk87/opt/anaconda3/lib/python3.9/site-packages/sklearn/utils/validation.py:1111: DataConversionWarning: A column-vector y was passed when a 1d array was expected. Please change the shape of y to (n_samples, ), for example using ravel().\n",
      "  y = column_or_1d(y, warn=True)\n",
      "/Users/brandonk87/opt/anaconda3/lib/python3.9/site-packages/sklearn/utils/validation.py:1111: DataConversionWarning: A column-vector y was passed when a 1d array was expected. Please change the shape of y to (n_samples, ), for example using ravel().\n",
      "  y = column_or_1d(y, warn=True)\n",
      "/Users/brandonk87/opt/anaconda3/lib/python3.9/site-packages/sklearn/utils/validation.py:1111: DataConversionWarning: A column-vector y was passed when a 1d array was expected. Please change the shape of y to (n_samples, ), for example using ravel().\n",
      "  y = column_or_1d(y, warn=True)\n",
      "/Users/brandonk87/opt/anaconda3/lib/python3.9/site-packages/sklearn/utils/validation.py:1111: DataConversionWarning: A column-vector y was passed when a 1d array was expected. Please change the shape of y to (n_samples, ), for example using ravel().\n",
      "  y = column_or_1d(y, warn=True)\n",
      "/Users/brandonk87/opt/anaconda3/lib/python3.9/site-packages/sklearn/utils/validation.py:1111: DataConversionWarning: A column-vector y was passed when a 1d array was expected. Please change the shape of y to (n_samples, ), for example using ravel().\n",
      "  y = column_or_1d(y, warn=True)\n",
      "/Users/brandonk87/opt/anaconda3/lib/python3.9/site-packages/sklearn/utils/validation.py:1111: DataConversionWarning: A column-vector y was passed when a 1d array was expected. Please change the shape of y to (n_samples, ), for example using ravel().\n",
      "  y = column_or_1d(y, warn=True)\n",
      "/Users/brandonk87/opt/anaconda3/lib/python3.9/site-packages/sklearn/utils/validation.py:1111: DataConversionWarning: A column-vector y was passed when a 1d array was expected. Please change the shape of y to (n_samples, ), for example using ravel().\n",
      "  y = column_or_1d(y, warn=True)\n",
      "/Users/brandonk87/opt/anaconda3/lib/python3.9/site-packages/sklearn/utils/validation.py:1111: DataConversionWarning: A column-vector y was passed when a 1d array was expected. Please change the shape of y to (n_samples, ), for example using ravel().\n",
      "  y = column_or_1d(y, warn=True)\n",
      "/Users/brandonk87/opt/anaconda3/lib/python3.9/site-packages/sklearn/utils/validation.py:1111: DataConversionWarning: A column-vector y was passed when a 1d array was expected. Please change the shape of y to (n_samples, ), for example using ravel().\n",
      "  y = column_or_1d(y, warn=True)\n",
      "/Users/brandonk87/opt/anaconda3/lib/python3.9/site-packages/sklearn/utils/validation.py:1111: DataConversionWarning: A column-vector y was passed when a 1d array was expected. Please change the shape of y to (n_samples, ), for example using ravel().\n",
      "  y = column_or_1d(y, warn=True)\n",
      "/Users/brandonk87/opt/anaconda3/lib/python3.9/site-packages/sklearn/utils/validation.py:1111: DataConversionWarning: A column-vector y was passed when a 1d array was expected. Please change the shape of y to (n_samples, ), for example using ravel().\n",
      "  y = column_or_1d(y, warn=True)\n",
      "/Users/brandonk87/opt/anaconda3/lib/python3.9/site-packages/sklearn/utils/validation.py:1111: DataConversionWarning: A column-vector y was passed when a 1d array was expected. Please change the shape of y to (n_samples, ), for example using ravel().\n",
      "  y = column_or_1d(y, warn=True)\n",
      "/Users/brandonk87/opt/anaconda3/lib/python3.9/site-packages/sklearn/utils/validation.py:1111: DataConversionWarning: A column-vector y was passed when a 1d array was expected. Please change the shape of y to (n_samples, ), for example using ravel().\n",
      "  y = column_or_1d(y, warn=True)\n",
      "/Users/brandonk87/opt/anaconda3/lib/python3.9/site-packages/sklearn/utils/validation.py:1111: DataConversionWarning: A column-vector y was passed when a 1d array was expected. Please change the shape of y to (n_samples, ), for example using ravel().\n",
      "  y = column_or_1d(y, warn=True)\n",
      "/Users/brandonk87/opt/anaconda3/lib/python3.9/site-packages/sklearn/utils/validation.py:1111: DataConversionWarning: A column-vector y was passed when a 1d array was expected. Please change the shape of y to (n_samples, ), for example using ravel().\n",
      "  y = column_or_1d(y, warn=True)\n",
      "/Users/brandonk87/opt/anaconda3/lib/python3.9/site-packages/sklearn/utils/validation.py:1111: DataConversionWarning: A column-vector y was passed when a 1d array was expected. Please change the shape of y to (n_samples, ), for example using ravel().\n",
      "  y = column_or_1d(y, warn=True)\n",
      "/Users/brandonk87/opt/anaconda3/lib/python3.9/site-packages/sklearn/utils/validation.py:1111: DataConversionWarning: A column-vector y was passed when a 1d array was expected. Please change the shape of y to (n_samples, ), for example using ravel().\n",
      "  y = column_or_1d(y, warn=True)\n",
      "/Users/brandonk87/opt/anaconda3/lib/python3.9/site-packages/sklearn/utils/validation.py:1111: DataConversionWarning: A column-vector y was passed when a 1d array was expected. Please change the shape of y to (n_samples, ), for example using ravel().\n",
      "  y = column_or_1d(y, warn=True)\n",
      "/Users/brandonk87/opt/anaconda3/lib/python3.9/site-packages/sklearn/utils/validation.py:1111: DataConversionWarning: A column-vector y was passed when a 1d array was expected. Please change the shape of y to (n_samples, ), for example using ravel().\n",
      "  y = column_or_1d(y, warn=True)\n",
      "/Users/brandonk87/opt/anaconda3/lib/python3.9/site-packages/sklearn/utils/validation.py:1111: DataConversionWarning: A column-vector y was passed when a 1d array was expected. Please change the shape of y to (n_samples, ), for example using ravel().\n",
      "  y = column_or_1d(y, warn=True)\n",
      "/Users/brandonk87/opt/anaconda3/lib/python3.9/site-packages/sklearn/utils/validation.py:1111: DataConversionWarning: A column-vector y was passed when a 1d array was expected. Please change the shape of y to (n_samples, ), for example using ravel().\n",
      "  y = column_or_1d(y, warn=True)\n",
      "/Users/brandonk87/opt/anaconda3/lib/python3.9/site-packages/sklearn/utils/validation.py:1111: DataConversionWarning: A column-vector y was passed when a 1d array was expected. Please change the shape of y to (n_samples, ), for example using ravel().\n",
      "  y = column_or_1d(y, warn=True)\n"
     ]
    }
   ],
   "source": [
    "from sklearn.model_selection import KFold\n",
    "accuracy = []\n",
    "cv = KFold(n_splits=5, shuffle=True, random_state=13)\n",
    "for j in (50,100,200,500,1000,2000):\n",
    "    boost1 = AdaBoostClassifier(n_estimators=j, algorithm = 'SAMME',random_state=13)\n",
    "    avg_accuracy = 0\n",
    "    for train_index, test_index in cv.split(bankruptcy):\n",
    "        x_train, x_test = x.iloc[train_index], x.iloc[test_index]\n",
    "        y_train, y_test = y.iloc[train_index], y.iloc[test_index]\n",
    "        boost1.fit(x_train, y_train)\n",
    "        pred_test = boost1.predict(x_test)\n",
    "        temp_accuracy = accuracy_score(pred_test,y_test)\n",
    "        avg_accuracy = avg_accuracy + temp_accuracy\n",
    "    avg_accuracy = avg_accuracy/5\n",
    "    accuracy.append(avg_accuracy)"
   ]
  },
  {
   "cell_type": "code",
   "execution_count": 10,
   "id": "505cb624",
   "metadata": {
    "scrolled": true
   },
   "outputs": [
    {
     "data": {
      "text/plain": [
       "50      0.875644\n",
       "100     0.883370\n",
       "200     0.886313\n",
       "500     0.887049\n",
       "1000    0.887233\n",
       "2000    0.886313\n",
       "dtype: float64"
      ]
     },
     "execution_count": 10,
     "metadata": {},
     "output_type": "execute_result"
    }
   ],
   "source": [
    "column_names = [\"50\",\"100\",\"200\",\"500\",\"1000\",\"2000\"]\n",
    "pd.Series(accuracy, index = column_names)"
   ]
  },
  {
   "cell_type": "code",
   "execution_count": 11,
   "id": "632eae38",
   "metadata": {},
   "outputs": [
    {
     "data": {
      "text/plain": [
       "Text(0, 0.5, 'Accuracy Score')"
      ]
     },
     "execution_count": 11,
     "metadata": {},
     "output_type": "execute_result"
    },
    {
     "data": {
      "image/png": "[encoded data removed]",
      "text/plain": [
       "<Figure size 432x288 with 1 Axes>"
      ]
     },
     "metadata": {
      "needs_background": "light"
     },
     "output_type": "display_data"
    }
   ],
   "source": [
    "column_names = [\"50\",\"100\",\"200\",\"500\",\"1000\",\"2000\"]\n",
    "plt.bar(column_names, accuracy)\n",
    "plt.ylim(0.87,0.89)\n",
    "plt.title(\"CV Accuracy Scores vs Number of Trees\")\n",
    "plt.xlabel(\"Number of Trees\")\n",
    "plt.ylabel(\"Accuracy Score\")"
   ]
  },
  {
   "cell_type": "code",
   "execution_count": 12,
   "id": "f818ad33",
   "metadata": {
    "scrolled": true
   },
   "outputs": [
    {
     "name": "stderr",
     "output_type": "stream",
     "text": [
      "/Users/brandonk87/opt/anaconda3/lib/python3.9/site-packages/sklearn/utils/validation.py:1111: DataConversionWarning: A column-vector y was passed when a 1d array was expected. Please change the shape of y to (n_samples, ), for example using ravel().\n",
      "  y = column_or_1d(y, warn=True)\n"
     ]
    },
    {
     "name": "stdout",
     "output_type": "stream",
     "text": [
      "Test accuracy: 0.8886844526218951\n"
     ]
    }
   ],
   "source": [
    "# 1000 trees is the optimal number\n",
    "boost1 = AdaBoostClassifier(n_estimators=1000,random_state=13, algorithm = 'SAMME')\n",
    "boost1.fit(x_train,y_train)\n",
    "pred_test = boost1.predict(x_test)\n",
    "print(\"Test accuracy:\",accuracy_score(pred_test,y_test)) "
   ]
  },
  {
   "cell_type": "code",
   "execution_count": 13,
   "id": "e1931e4f",
   "metadata": {},
   "outputs": [
    {
     "name": "stdout",
     "output_type": "stream",
     "text": [
      "[[897  36]\n",
      " [ 85  69]]\n",
      "The FNR is: 0.34285714285714286\n",
      "The FPR is: 0.08655804480651731\n",
      "The MR is: 0.11131554737810488\n"
     ]
    }
   ],
   "source": [
    "# Metrics for the model\n",
    "from sklearn.metrics import confusion_matrix\n",
    "cm = confusion_matrix(y_test, pred_test)\n",
    "TN = cm[0,0]\n",
    "FN = cm[0,1]\n",
    "FP = cm[1,0]\n",
    "TP = cm[1,1]\n",
    "print(cm)\n",
    "print(\"The FNR is:\", FN/(TP+FN))\n",
    "print(\"The FPR is:\",FP/(FP+TN))\n",
    "print(\"The MR is:\",(FP + FN)/len(y_test))"
   ]
  },
  {
   "cell_type": "code",
   "execution_count": 14,
   "id": "4c6b2236",
   "metadata": {},
   "outputs": [
    {
     "name": "stdout",
     "output_type": "stream",
     "text": [
      "AUC: 0.8717167077295696\n"
     ]
    },
    {
     "data": {
      "image/png": "[encoded data removed]",
      "text/plain": [
       "<Figure size 432x288 with 1 Axes>"
      ]
     },
     "metadata": {
      "needs_background": "light"
     },
     "output_type": "display_data"
    }
   ],
   "source": [
    "from sklearn.metrics import roc_curve, roc_auc_score\n",
    "from sklearn import metrics\n",
    "pred_test_prob = boost1.predict_proba(x_test)\n",
    "mr_probs = [0 for _ in range(len(y_test))]\n",
    "mr_fpr, mr_tpr, _ = roc_curve(y_test, mr_probs)\n",
    "lr_fpr, lr_tpr, _ = roc_curve(y_test, pred_test_prob[:,1])\n",
    "plt.plot(mr_fpr, mr_tpr, linestyle='--')\n",
    "plt.plot(lr_fpr, lr_tpr, marker='.')\n",
    "plt.xlabel('False Positive Rate')\n",
    "plt.ylabel('True Positive Rate')\n",
    "print(\"AUC:\",metrics.auc(lr_fpr, lr_tpr))"
   ]
  },
  {
   "cell_type": "markdown",
   "id": "4724aaff",
   "metadata": {},
   "source": [
    "# Bonus Question 4- logistic regression adaboost"
   ]
  },
  {
   "cell_type": "code",
   "execution_count": 28,
   "id": "a44ac49d",
   "metadata": {},
   "outputs": [
    {
     "name": "stdout",
     "output_type": "stream",
     "text": [
      "Logistic Boost Test accuracy: 0.8574057037718491\n"
     ]
    },
    {
     "name": "stderr",
     "output_type": "stream",
     "text": [
      "/Users/brandonk87/opt/anaconda3/lib/python3.9/site-packages/sklearn/utils/validation.py:1111: DataConversionWarning: A column-vector y was passed when a 1d array was expected. Please change the shape of y to (n_samples, ), for example using ravel().\n",
      "  y = column_or_1d(y, warn=True)\n"
     ]
    }
   ],
   "source": [
    "from sklearn.linear_model import LogisticRegression\n",
    "boost_logistic = AdaBoostClassifier(base_estimator = LogisticRegression(),\n",
    "                                    n_estimators=50,random_state=13, algorithm = 'SAMME')\n",
    "boost_logistic.fit(x_train,y_train)\n",
    "pred_test = boost_logistic.predict(x_test)\n",
    "print(\"Logistic Boost Test accuracy:\",accuracy_score(pred_test,y_test)) "
   ]
  },
  {
   "cell_type": "code",
   "execution_count": 30,
   "id": "bfbc4ebf",
   "metadata": {},
   "outputs": [
    {
     "name": "stdout",
     "output_type": "stream",
     "text": [
      "[[855  78]\n",
      " [ 77  77]]\n",
      "The FNR is: 0.5032258064516129\n",
      "The FPR is: 0.08261802575107297\n",
      "The MR is: 0.14259429622815087\n"
     ]
    }
   ],
   "source": [
    "# Metrics for the model\n",
    "from sklearn.metrics import confusion_matrix\n",
    "cm = confusion_matrix(y_test, pred_test)\n",
    "TN = cm[0,0]\n",
    "FN = cm[0,1]\n",
    "FP = cm[1,0]\n",
    "TP = cm[1,1]\n",
    "print(cm)\n",
    "print(\"The FNR is:\", FN/(TP+FN))\n",
    "print(\"The FPR is:\",FP/(FP+TN))\n",
    "print(\"The MR is:\",(FP + FN)/len(y_test))"
   ]
  },
  {
   "cell_type": "code",
   "execution_count": 31,
   "id": "b5f58d37",
   "metadata": {},
   "outputs": [
    {
     "name": "stdout",
     "output_type": "stream",
     "text": [
      "AUC: 0.848860678442672\n"
     ]
    },
    {
     "data": {
      "image/png": "[encoded data removed]",
      "text/plain": [
       "<Figure size 432x288 with 1 Axes>"
      ]
     },
     "metadata": {
      "needs_background": "light"
     },
     "output_type": "display_data"
    }
   ],
   "source": [
    "from sklearn.metrics import roc_curve, roc_auc_score\n",
    "from sklearn import metrics\n",
    "pred_test_prob = boost_logistic.predict_proba(x_test)\n",
    "mr_probs = [0 for _ in range(len(y_test))]\n",
    "mr_fpr, mr_tpr, _ = roc_curve(y_test, mr_probs)\n",
    "lr_fpr, lr_tpr, _ = roc_curve(y_test, pred_test_prob[:,1])\n",
    "plt.plot(mr_fpr, mr_tpr, linestyle='--')\n",
    "plt.plot(lr_fpr, lr_tpr, marker='.')\n",
    "plt.xlabel('False Positive Rate')\n",
    "plt.ylabel('True Positive Rate')\n",
    "print(\"AUC:\",metrics.auc(lr_fpr, lr_tpr))"
   ]
  },
  {
   "cell_type": "markdown",
   "id": "e0037874",
   "metadata": {},
   "source": [
    "# Question 5- Gradient Boosting"
   ]
  },
  {
   "cell_type": "code",
   "execution_count": 32,
   "id": "4035fd0e",
   "metadata": {},
   "outputs": [
    {
     "name": "stderr",
     "output_type": "stream",
     "text": [
      "/Users/brandonk87/opt/anaconda3/lib/python3.9/site-packages/sklearn/ensemble/_gb.py:570: DataConversionWarning: A column-vector y was passed when a 1d array was expected. Please change the shape of y to (n_samples, ), for example using ravel().\n",
      "  y = column_or_1d(y, warn=True)\n"
     ]
    },
    {
     "name": "stdout",
     "output_type": "stream",
     "text": [
      "Test accuracy: 0.8877644894204232\n"
     ]
    }
   ],
   "source": [
    "from sklearn.ensemble import GradientBoostingClassifier, GradientBoostingRegressor\n",
    "\n",
    "boost2 = GradientBoostingClassifier(n_estimators=50,learning_rate=0.1, max_depth=3, random_state=13)\n",
    "    # Define the function\n",
    "    # loss is what you are trying to minimze (default is deciance, used for classification)\n",
    "    # learning_rate is the regularization, range from 0 to 1, default is 0.1\n",
    "        ## necessary to use in gradient boosting\n",
    "    # n_estimator is the number of trees\n",
    "    \n",
    "boost2.fit(x_train,y_train)\n",
    "pred_test = boost2.predict(x_test)\n",
    "print(\"Test accuracy:\",accuracy_score(pred_test,y_test))"
   ]
  },
  {
   "cell_type": "code",
   "execution_count": 33,
   "id": "f9cea594",
   "metadata": {},
   "outputs": [
    {
     "name": "stdout",
     "output_type": "stream",
     "text": [
      "[0.76541628 0.72418904 0.69274592 0.66670995 0.64516905 0.62723927\n",
      " 0.61220946 0.60038157 0.58893665 0.57916492 0.57035703 0.56020746\n",
      " 0.5526181  0.54481042 0.53747343 0.53221336 0.5264402  0.52009592\n",
      " 0.51599404 0.51188044 0.50779917 0.50532195 0.50174279 0.49800335\n",
      " 0.49476836 0.49348797 0.49027366 0.48623772 0.48442489 0.48057376\n",
      " 0.4782323  0.47639103 0.47378087 0.47112163 0.46949067 0.46755417\n",
      " 0.4650823  0.461609   0.45942235 0.45789752 0.45572249 0.45433411\n",
      " 0.45260342 0.45120392 0.44971954 0.44845135 0.44675665 0.44600659\n",
      " 0.44481025 0.44416725]\n"
     ]
    }
   ],
   "source": [
    "print(boost2.train_score_) # score of the model for each iteration\n",
    "    # a score of 0 means it has the best fit"
   ]
  },
  {
   "cell_type": "code",
   "execution_count": 34,
   "id": "73a6ae16",
   "metadata": {},
   "outputs": [
    {
     "name": "stdout",
     "output_type": "stream",
     "text": [
      "R1     0.016675\n",
      "R2     0.053438\n",
      "R3     0.065580\n",
      "R4     0.092934\n",
      "R5     0.022565\n",
      "R6     0.146871\n",
      "R7     0.013753\n",
      "R8     0.047150\n",
      "R9     0.049860\n",
      "R10    0.491175\n",
      "dtype: float64\n"
     ]
    },
    {
     "data": {
      "text/plain": [
       "<BarContainer object of 10 artists>"
      ]
     },
     "execution_count": 34,
     "metadata": {},
     "output_type": "execute_result"
    },
    {
     "data": {
      "image/png": "[encoded data removed]",
      "text/plain": [
       "<Figure size 432x288 with 1 Axes>"
      ]
     },
     "metadata": {
      "needs_background": "light"
     },
     "output_type": "display_data"
    }
   ],
   "source": [
    "column_names = x_test.columns\n",
    "col_len = len(x_test.columns)\n",
    "# Feature importance\n",
    "print(pd.Series(boost2.feature_importances_.reshape(col_len,), index=column_names))\n",
    "plt.bar(column_names, boost2.feature_importances_)"
   ]
  },
  {
   "cell_type": "code",
   "execution_count": 35,
   "id": "1053759a",
   "metadata": {},
   "outputs": [
    {
     "name": "stdout",
     "output_type": "stream",
     "text": [
      "[[895  38]\n",
      " [ 84  70]]\n",
      "The FNR is: 0.35185185185185186\n",
      "The FPR is: 0.08580183861082738\n",
      "The MR is: 0.11223551057957681\n"
     ]
    }
   ],
   "source": [
    "# Metrics for the model\n",
    "from sklearn.metrics import confusion_matrix\n",
    "cm = confusion_matrix(y_test, pred_test)\n",
    "TN = cm[0,0]\n",
    "FN = cm[0,1]\n",
    "FP = cm[1,0]\n",
    "TP = cm[1,1]\n",
    "print(cm)\n",
    "print(\"The FNR is:\", FN/(TP+FN))\n",
    "print(\"The FPR is:\",FP/(FP+TN))\n",
    "print(\"The MR is:\",(FP + FN)/len(y_test))"
   ]
  },
  {
   "cell_type": "code",
   "execution_count": 36,
   "id": "eb2979f0",
   "metadata": {},
   "outputs": [
    {
     "name": "stdout",
     "output_type": "stream",
     "text": [
      "AUC: 0.8810498183488538\n"
     ]
    },
    {
     "data": {
      "image/png": "[encoded data removed]",
      "text/plain": [
       "<Figure size 432x288 with 1 Axes>"
      ]
     },
     "metadata": {
      "needs_background": "light"
     },
     "output_type": "display_data"
    }
   ],
   "source": [
    "from sklearn.metrics import roc_curve, roc_auc_score\n",
    "from sklearn import metrics\n",
    "pred_test_prob = boost2.predict_proba(x_test)\n",
    "mr_probs = [0 for _ in range(len(y_test))]\n",
    "mr_fpr, mr_tpr, _ = roc_curve(y_test, mr_probs)\n",
    "lr_fpr, lr_tpr, _ = roc_curve(y_test, pred_test_prob[:,1])\n",
    "plt.plot(mr_fpr, mr_tpr, linestyle='--')\n",
    "plt.plot(lr_fpr, lr_tpr, marker='.')\n",
    "plt.xlabel('False Positive Rate')\n",
    "plt.ylabel('True Positive Rate')\n",
    "print(\"AUC:\",metrics.auc(lr_fpr, lr_tpr))"
   ]
  },
  {
   "cell_type": "markdown",
   "id": "feb64a7a",
   "metadata": {},
   "source": [
    "# Question 6- Optimal learning rate using CV"
   ]
  },
  {
   "cell_type": "code",
   "execution_count": 37,
   "id": "253be42e",
   "metadata": {
    "collapsed": true
   },
   "outputs": [
    {
     "name": "stderr",
     "output_type": "stream",
     "text": [
      "/Users/brandonk87/opt/anaconda3/lib/python3.9/site-packages/sklearn/ensemble/_gb.py:570: DataConversionWarning: A column-vector y was passed when a 1d array was expected. Please change the shape of y to (n_samples, ), for example using ravel().\n",
      "  y = column_or_1d(y, warn=True)\n",
      "/Users/brandonk87/opt/anaconda3/lib/python3.9/site-packages/sklearn/ensemble/_gb.py:570: DataConversionWarning: A column-vector y was passed when a 1d array was expected. Please change the shape of y to (n_samples, ), for example using ravel().\n",
      "  y = column_or_1d(y, warn=True)\n",
      "/Users/brandonk87/opt/anaconda3/lib/python3.9/site-packages/sklearn/ensemble/_gb.py:570: DataConversionWarning: A column-vector y was passed when a 1d array was expected. Please change the shape of y to (n_samples, ), for example using ravel().\n",
      "  y = column_or_1d(y, warn=True)\n",
      "/Users/brandonk87/opt/anaconda3/lib/python3.9/site-packages/sklearn/ensemble/_gb.py:570: DataConversionWarning: A column-vector y was passed when a 1d array was expected. Please change the shape of y to (n_samples, ), for example using ravel().\n",
      "  y = column_or_1d(y, warn=True)\n",
      "/Users/brandonk87/opt/anaconda3/lib/python3.9/site-packages/sklearn/ensemble/_gb.py:570: DataConversionWarning: A column-vector y was passed when a 1d array was expected. Please change the shape of y to (n_samples, ), for example using ravel().\n",
      "  y = column_or_1d(y, warn=True)\n",
      "/Users/brandonk87/opt/anaconda3/lib/python3.9/site-packages/sklearn/ensemble/_gb.py:570: DataConversionWarning: A column-vector y was passed when a 1d array was expected. Please change the shape of y to (n_samples, ), for example using ravel().\n",
      "  y = column_or_1d(y, warn=True)\n",
      "/Users/brandonk87/opt/anaconda3/lib/python3.9/site-packages/sklearn/ensemble/_gb.py:570: DataConversionWarning: A column-vector y was passed when a 1d array was expected. Please change the shape of y to (n_samples, ), for example using ravel().\n",
      "  y = column_or_1d(y, warn=True)\n",
      "/Users/brandonk87/opt/anaconda3/lib/python3.9/site-packages/sklearn/ensemble/_gb.py:570: DataConversionWarning: A column-vector y was passed when a 1d array was expected. Please change the shape of y to (n_samples, ), for example using ravel().\n",
      "  y = column_or_1d(y, warn=True)\n",
      "/Users/brandonk87/opt/anaconda3/lib/python3.9/site-packages/sklearn/ensemble/_gb.py:570: DataConversionWarning: A column-vector y was passed when a 1d array was expected. Please change the shape of y to (n_samples, ), for example using ravel().\n",
      "  y = column_or_1d(y, warn=True)\n",
      "/Users/brandonk87/opt/anaconda3/lib/python3.9/site-packages/sklearn/ensemble/_gb.py:570: DataConversionWarning: A column-vector y was passed when a 1d array was expected. Please change the shape of y to (n_samples, ), for example using ravel().\n",
      "  y = column_or_1d(y, warn=True)\n",
      "/Users/brandonk87/opt/anaconda3/lib/python3.9/site-packages/sklearn/ensemble/_gb.py:570: DataConversionWarning: A column-vector y was passed when a 1d array was expected. Please change the shape of y to (n_samples, ), for example using ravel().\n",
      "  y = column_or_1d(y, warn=True)\n",
      "/Users/brandonk87/opt/anaconda3/lib/python3.9/site-packages/sklearn/ensemble/_gb.py:570: DataConversionWarning: A column-vector y was passed when a 1d array was expected. Please change the shape of y to (n_samples, ), for example using ravel().\n",
      "  y = column_or_1d(y, warn=True)\n",
      "/Users/brandonk87/opt/anaconda3/lib/python3.9/site-packages/sklearn/ensemble/_gb.py:570: DataConversionWarning: A column-vector y was passed when a 1d array was expected. Please change the shape of y to (n_samples, ), for example using ravel().\n",
      "  y = column_or_1d(y, warn=True)\n",
      "/Users/brandonk87/opt/anaconda3/lib/python3.9/site-packages/sklearn/ensemble/_gb.py:570: DataConversionWarning: A column-vector y was passed when a 1d array was expected. Please change the shape of y to (n_samples, ), for example using ravel().\n",
      "  y = column_or_1d(y, warn=True)\n",
      "/Users/brandonk87/opt/anaconda3/lib/python3.9/site-packages/sklearn/ensemble/_gb.py:570: DataConversionWarning: A column-vector y was passed when a 1d array was expected. Please change the shape of y to (n_samples, ), for example using ravel().\n",
      "  y = column_or_1d(y, warn=True)\n",
      "/Users/brandonk87/opt/anaconda3/lib/python3.9/site-packages/sklearn/ensemble/_gb.py:570: DataConversionWarning: A column-vector y was passed when a 1d array was expected. Please change the shape of y to (n_samples, ), for example using ravel().\n",
      "  y = column_or_1d(y, warn=True)\n",
      "/Users/brandonk87/opt/anaconda3/lib/python3.9/site-packages/sklearn/ensemble/_gb.py:570: DataConversionWarning: A column-vector y was passed when a 1d array was expected. Please change the shape of y to (n_samples, ), for example using ravel().\n",
      "  y = column_or_1d(y, warn=True)\n",
      "/Users/brandonk87/opt/anaconda3/lib/python3.9/site-packages/sklearn/ensemble/_gb.py:570: DataConversionWarning: A column-vector y was passed when a 1d array was expected. Please change the shape of y to (n_samples, ), for example using ravel().\n",
      "  y = column_or_1d(y, warn=True)\n",
      "/Users/brandonk87/opt/anaconda3/lib/python3.9/site-packages/sklearn/ensemble/_gb.py:570: DataConversionWarning: A column-vector y was passed when a 1d array was expected. Please change the shape of y to (n_samples, ), for example using ravel().\n",
      "  y = column_or_1d(y, warn=True)\n",
      "/Users/brandonk87/opt/anaconda3/lib/python3.9/site-packages/sklearn/ensemble/_gb.py:570: DataConversionWarning: A column-vector y was passed when a 1d array was expected. Please change the shape of y to (n_samples, ), for example using ravel().\n",
      "  y = column_or_1d(y, warn=True)\n",
      "/Users/brandonk87/opt/anaconda3/lib/python3.9/site-packages/sklearn/ensemble/_gb.py:570: DataConversionWarning: A column-vector y was passed when a 1d array was expected. Please change the shape of y to (n_samples, ), for example using ravel().\n",
      "  y = column_or_1d(y, warn=True)\n",
      "/Users/brandonk87/opt/anaconda3/lib/python3.9/site-packages/sklearn/ensemble/_gb.py:570: DataConversionWarning: A column-vector y was passed when a 1d array was expected. Please change the shape of y to (n_samples, ), for example using ravel().\n",
      "  y = column_or_1d(y, warn=True)\n",
      "/Users/brandonk87/opt/anaconda3/lib/python3.9/site-packages/sklearn/ensemble/_gb.py:570: DataConversionWarning: A column-vector y was passed when a 1d array was expected. Please change the shape of y to (n_samples, ), for example using ravel().\n",
      "  y = column_or_1d(y, warn=True)\n",
      "/Users/brandonk87/opt/anaconda3/lib/python3.9/site-packages/sklearn/ensemble/_gb.py:570: DataConversionWarning: A column-vector y was passed when a 1d array was expected. Please change the shape of y to (n_samples, ), for example using ravel().\n",
      "  y = column_or_1d(y, warn=True)\n",
      "/Users/brandonk87/opt/anaconda3/lib/python3.9/site-packages/sklearn/ensemble/_gb.py:570: DataConversionWarning: A column-vector y was passed when a 1d array was expected. Please change the shape of y to (n_samples, ), for example using ravel().\n",
      "  y = column_or_1d(y, warn=True)\n",
      "/Users/brandonk87/opt/anaconda3/lib/python3.9/site-packages/sklearn/ensemble/_gb.py:570: DataConversionWarning: A column-vector y was passed when a 1d array was expected. Please change the shape of y to (n_samples, ), for example using ravel().\n",
      "  y = column_or_1d(y, warn=True)\n",
      "/Users/brandonk87/opt/anaconda3/lib/python3.9/site-packages/sklearn/ensemble/_gb.py:570: DataConversionWarning: A column-vector y was passed when a 1d array was expected. Please change the shape of y to (n_samples, ), for example using ravel().\n",
      "  y = column_or_1d(y, warn=True)\n",
      "/Users/brandonk87/opt/anaconda3/lib/python3.9/site-packages/sklearn/ensemble/_gb.py:570: DataConversionWarning: A column-vector y was passed when a 1d array was expected. Please change the shape of y to (n_samples, ), for example using ravel().\n",
      "  y = column_or_1d(y, warn=True)\n",
      "/Users/brandonk87/opt/anaconda3/lib/python3.9/site-packages/sklearn/ensemble/_gb.py:570: DataConversionWarning: A column-vector y was passed when a 1d array was expected. Please change the shape of y to (n_samples, ), for example using ravel().\n",
      "  y = column_or_1d(y, warn=True)\n",
      "/Users/brandonk87/opt/anaconda3/lib/python3.9/site-packages/sklearn/ensemble/_gb.py:570: DataConversionWarning: A column-vector y was passed when a 1d array was expected. Please change the shape of y to (n_samples, ), for example using ravel().\n",
      "  y = column_or_1d(y, warn=True)\n",
      "/Users/brandonk87/opt/anaconda3/lib/python3.9/site-packages/sklearn/ensemble/_gb.py:570: DataConversionWarning: A column-vector y was passed when a 1d array was expected. Please change the shape of y to (n_samples, ), for example using ravel().\n",
      "  y = column_or_1d(y, warn=True)\n",
      "/Users/brandonk87/opt/anaconda3/lib/python3.9/site-packages/sklearn/ensemble/_gb.py:570: DataConversionWarning: A column-vector y was passed when a 1d array was expected. Please change the shape of y to (n_samples, ), for example using ravel().\n",
      "  y = column_or_1d(y, warn=True)\n",
      "/Users/brandonk87/opt/anaconda3/lib/python3.9/site-packages/sklearn/ensemble/_gb.py:570: DataConversionWarning: A column-vector y was passed when a 1d array was expected. Please change the shape of y to (n_samples, ), for example using ravel().\n",
      "  y = column_or_1d(y, warn=True)\n",
      "/Users/brandonk87/opt/anaconda3/lib/python3.9/site-packages/sklearn/ensemble/_gb.py:570: DataConversionWarning: A column-vector y was passed when a 1d array was expected. Please change the shape of y to (n_samples, ), for example using ravel().\n",
      "  y = column_or_1d(y, warn=True)\n",
      "/Users/brandonk87/opt/anaconda3/lib/python3.9/site-packages/sklearn/ensemble/_gb.py:570: DataConversionWarning: A column-vector y was passed when a 1d array was expected. Please change the shape of y to (n_samples, ), for example using ravel().\n",
      "  y = column_or_1d(y, warn=True)\n",
      "/Users/brandonk87/opt/anaconda3/lib/python3.9/site-packages/sklearn/ensemble/_gb.py:570: DataConversionWarning: A column-vector y was passed when a 1d array was expected. Please change the shape of y to (n_samples, ), for example using ravel().\n",
      "  y = column_or_1d(y, warn=True)\n",
      "/Users/brandonk87/opt/anaconda3/lib/python3.9/site-packages/sklearn/ensemble/_gb.py:570: DataConversionWarning: A column-vector y was passed when a 1d array was expected. Please change the shape of y to (n_samples, ), for example using ravel().\n",
      "  y = column_or_1d(y, warn=True)\n",
      "/Users/brandonk87/opt/anaconda3/lib/python3.9/site-packages/sklearn/ensemble/_gb.py:570: DataConversionWarning: A column-vector y was passed when a 1d array was expected. Please change the shape of y to (n_samples, ), for example using ravel().\n",
      "  y = column_or_1d(y, warn=True)\n",
      "/Users/brandonk87/opt/anaconda3/lib/python3.9/site-packages/sklearn/ensemble/_gb.py:570: DataConversionWarning: A column-vector y was passed when a 1d array was expected. Please change the shape of y to (n_samples, ), for example using ravel().\n",
      "  y = column_or_1d(y, warn=True)\n",
      "/Users/brandonk87/opt/anaconda3/lib/python3.9/site-packages/sklearn/ensemble/_gb.py:570: DataConversionWarning: A column-vector y was passed when a 1d array was expected. Please change the shape of y to (n_samples, ), for example using ravel().\n",
      "  y = column_or_1d(y, warn=True)\n",
      "/Users/brandonk87/opt/anaconda3/lib/python3.9/site-packages/sklearn/ensemble/_gb.py:570: DataConversionWarning: A column-vector y was passed when a 1d array was expected. Please change the shape of y to (n_samples, ), for example using ravel().\n",
      "  y = column_or_1d(y, warn=True)\n",
      "/Users/brandonk87/opt/anaconda3/lib/python3.9/site-packages/sklearn/ensemble/_gb.py:570: DataConversionWarning: A column-vector y was passed when a 1d array was expected. Please change the shape of y to (n_samples, ), for example using ravel().\n",
      "  y = column_or_1d(y, warn=True)\n",
      "/Users/brandonk87/opt/anaconda3/lib/python3.9/site-packages/sklearn/ensemble/_gb.py:570: DataConversionWarning: A column-vector y was passed when a 1d array was expected. Please change the shape of y to (n_samples, ), for example using ravel().\n",
      "  y = column_or_1d(y, warn=True)\n",
      "/Users/brandonk87/opt/anaconda3/lib/python3.9/site-packages/sklearn/ensemble/_gb.py:570: DataConversionWarning: A column-vector y was passed when a 1d array was expected. Please change the shape of y to (n_samples, ), for example using ravel().\n",
      "  y = column_or_1d(y, warn=True)\n",
      "/Users/brandonk87/opt/anaconda3/lib/python3.9/site-packages/sklearn/ensemble/_gb.py:570: DataConversionWarning: A column-vector y was passed when a 1d array was expected. Please change the shape of y to (n_samples, ), for example using ravel().\n",
      "  y = column_or_1d(y, warn=True)\n"
     ]
    }
   ],
   "source": [
    "from sklearn.model_selection import KFold\n",
    "accuracy = []\n",
    "cv = KFold(n_splits=5, shuffle=True, random_state=13)\n",
    "for j in (0.0001, 0.0005, 0.001, 0.005, 0.01, 0.05, 0.1, 0.5, 1):\n",
    "    boost3 = GradientBoostingClassifier(n_estimators=50,learning_rate=j, max_depth=3, random_state=13)\n",
    "    avg_accuracy = 0\n",
    "    for train_index, test_index in cv.split(bankruptcy):\n",
    "        x_train, x_test = x.iloc[train_index], x.iloc[test_index]\n",
    "        y_train, y_test = y.iloc[train_index], y.iloc[test_index]\n",
    "        boost3.fit(x_train, y_train)\n",
    "        pred_test = boost3.predict(x_test)\n",
    "        temp_accuracy = accuracy_score(pred_test,y_test)\n",
    "        avg_accuracy = avg_accuracy + temp_accuracy\n",
    "    avg_accuracy = avg_accuracy/5\n",
    "    accuracy.append(avg_accuracy)"
   ]
  },
  {
   "cell_type": "code",
   "execution_count": 38,
   "id": "e7eea271",
   "metadata": {},
   "outputs": [
    {
     "data": {
      "text/plain": [
       "0.0001    0.857248\n",
       "0.0005    0.857248\n",
       "0.001     0.857248\n",
       "0.005     0.857248\n",
       "0.01      0.857248\n",
       "0.05      0.886498\n",
       "0.1       0.888521\n",
       "0.5       0.879691\n",
       "1         0.869756\n",
       "dtype: float64"
      ]
     },
     "execution_count": 38,
     "metadata": {},
     "output_type": "execute_result"
    }
   ],
   "source": [
    "column_names = [\"0.0001\", \"0.0005\", \"0.001\", '0.005', '0.01', '0.05', '0.1', '0.5', '1']\n",
    "pd.Series(accuracy, index = column_names)"
   ]
  },
  {
   "cell_type": "code",
   "execution_count": 39,
   "id": "3539a4f2",
   "metadata": {},
   "outputs": [
    {
     "data": {
      "text/plain": [
       "Text(0, 0.5, 'Accuracy Score')"
      ]
     },
     "execution_count": 39,
     "metadata": {},
     "output_type": "execute_result"
    },
    {
     "data": {
      "image/png": "[encoded data removed]",
      "text/plain": [
       "<Figure size 432x288 with 1 Axes>"
      ]
     },
     "metadata": {
      "needs_background": "light"
     },
     "output_type": "display_data"
    }
   ],
   "source": [
    "column_names = [\"0.0001\", \"0.0005\", \"0.001\", '0.005', '0.01', '0.05', '0.1', '0.5', '1']\n",
    "plt.bar(column_names, accuracy)\n",
    "plt.ylim(0.85,0.89)\n",
    "plt.title(\"CV Accuracy Scores vs Different Learning Rates\")\n",
    "plt.xlabel(\"Learning Rate\")\n",
    "plt.ylabel(\"Accuracy Score\")"
   ]
  },
  {
   "cell_type": "code",
   "execution_count": 40,
   "id": "17ef164e",
   "metadata": {},
   "outputs": [
    {
     "name": "stderr",
     "output_type": "stream",
     "text": [
      "/Users/brandonk87/opt/anaconda3/lib/python3.9/site-packages/sklearn/ensemble/_gb.py:570: DataConversionWarning: A column-vector y was passed when a 1d array was expected. Please change the shape of y to (n_samples, ), for example using ravel().\n",
      "  y = column_or_1d(y, warn=True)\n"
     ]
    },
    {
     "name": "stdout",
     "output_type": "stream",
     "text": [
      "Test accuracy: 0.8877644894204232\n"
     ]
    }
   ],
   "source": [
    "# The optimal learning rate is 0.1, so this will be used\n",
    "boost4 = GradientBoostingClassifier(n_estimators=50,learning_rate=0.1, max_depth=3, random_state=13)\n",
    "boost4.fit(x_train,y_train)\n",
    "pred_test = boost4.predict(x_test)\n",
    "print(\"Test accuracy:\",accuracy_score(pred_test,y_test))"
   ]
  },
  {
   "cell_type": "code",
   "execution_count": 41,
   "id": "9447d511",
   "metadata": {},
   "outputs": [
    {
     "name": "stdout",
     "output_type": "stream",
     "text": [
      "[[895  38]\n",
      " [ 84  70]]\n",
      "The FNR is: 0.35185185185185186\n",
      "The FPR is: 0.08580183861082738\n",
      "The MR is: 0.11223551057957681\n"
     ]
    }
   ],
   "source": [
    "# Metrics for the model\n",
    "from sklearn.metrics import confusion_matrix\n",
    "cm = confusion_matrix(y_test, pred_test)\n",
    "TN = cm[0,0]\n",
    "FN = cm[0,1]\n",
    "FP = cm[1,0]\n",
    "TP = cm[1,1]\n",
    "print(cm)\n",
    "print(\"The FNR is:\", FN/(TP+FN))\n",
    "print(\"The FPR is:\",FP/(FP+TN))\n",
    "print(\"The MR is:\",(FP + FN)/len(y_test))"
   ]
  },
  {
   "cell_type": "code",
   "execution_count": 42,
   "id": "5a32d0b8",
   "metadata": {},
   "outputs": [
    {
     "name": "stdout",
     "output_type": "stream",
     "text": [
      "AUC: 0.8810498183488538\n"
     ]
    },
    {
     "data": {
      "image/png": "[encoded data removed]",
      "text/plain": [
       "<Figure size 432x288 with 1 Axes>"
      ]
     },
     "metadata": {
      "needs_background": "light"
     },
     "output_type": "display_data"
    }
   ],
   "source": [
    "from sklearn.metrics import roc_curve, roc_auc_score\n",
    "from sklearn import metrics\n",
    "pred_test_prob = boost4.predict_proba(x_test)\n",
    "mr_probs = [0 for _ in range(len(y_test))]\n",
    "mr_fpr, mr_tpr, _ = roc_curve(y_test, mr_probs)\n",
    "lr_fpr, lr_tpr, _ = roc_curve(y_test, pred_test_prob[:,1])\n",
    "plt.plot(mr_fpr, mr_tpr, linestyle='--')\n",
    "plt.plot(lr_fpr, lr_tpr, marker='.')\n",
    "plt.xlabel('False Positive Rate')\n",
    "plt.ylabel('True Positive Rate')\n",
    "print(\"AUC:\",metrics.auc(lr_fpr, lr_tpr))"
   ]
  }
 ],
 "metadata": {
  "kernelspec": {
   "display_name": "Python 3 (ipykernel)",
   "language": "python",
   "name": "python3"
  },
  "language_info": {
   "codemirror_mode": {
    "name": "ipython",
    "version": 3
   },
   "file_extension": ".py",
   "mimetype": "text/x-python",
   "name": "python",
   "nbconvert_exporter": "python",
   "pygments_lexer": "ipython3",
   "version": "3.9.12"
  }
 },
 "nbformat": 4,
 "nbformat_minor": 5
}
