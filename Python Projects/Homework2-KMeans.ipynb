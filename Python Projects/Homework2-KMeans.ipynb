{
 "cells": [
  {
   "cell_type": "code",
   "execution_count": 1,
   "id": "9f17328d",
   "metadata": {},
   "outputs": [],
   "source": [
    "import pandas as pd\n",
    "import numpy as np\n",
    "import matplotlib.pyplot as plt"
   ]
  },
  {
   "cell_type": "markdown",
   "id": "77a73d12",
   "metadata": {},
   "source": [
    "# Question 1: Importing Data"
   ]
  },
  {
   "cell_type": "code",
   "execution_count": 2,
   "id": "17386d64",
   "metadata": {},
   "outputs": [
    {
     "data": {
      "text/html": [
       "<div>\n",
       "<style scoped>\n",
       "    .dataframe tbody tr th:only-of-type {\n",
       "        vertical-align: middle;\n",
       "    }\n",
       "\n",
       "    .dataframe tbody tr th {\n",
       "        vertical-align: top;\n",
       "    }\n",
       "\n",
       "    .dataframe thead th {\n",
       "        text-align: right;\n",
       "    }\n",
       "</style>\n",
       "<table border=\"1\" class=\"dataframe\">\n",
       "  <thead>\n",
       "    <tr style=\"text-align: right;\">\n",
       "      <th></th>\n",
       "      <th>X1</th>\n",
       "      <th>X2</th>\n",
       "      <th>X3</th>\n",
       "      <th>X4</th>\n",
       "      <th>X5</th>\n",
       "      <th>X6</th>\n",
       "      <th>X7</th>\n",
       "    </tr>\n",
       "  </thead>\n",
       "  <tbody>\n",
       "    <tr>\n",
       "      <th>0</th>\n",
       "      <td>15.26</td>\n",
       "      <td>14.84</td>\n",
       "      <td>0.8710</td>\n",
       "      <td>5.763</td>\n",
       "      <td>3.312</td>\n",
       "      <td>2.221</td>\n",
       "      <td>5.220</td>\n",
       "    </tr>\n",
       "    <tr>\n",
       "      <th>1</th>\n",
       "      <td>14.88</td>\n",
       "      <td>14.57</td>\n",
       "      <td>0.8811</td>\n",
       "      <td>5.554</td>\n",
       "      <td>3.333</td>\n",
       "      <td>1.018</td>\n",
       "      <td>4.956</td>\n",
       "    </tr>\n",
       "    <tr>\n",
       "      <th>2</th>\n",
       "      <td>14.29</td>\n",
       "      <td>14.09</td>\n",
       "      <td>0.9050</td>\n",
       "      <td>5.291</td>\n",
       "      <td>3.337</td>\n",
       "      <td>2.699</td>\n",
       "      <td>4.825</td>\n",
       "    </tr>\n",
       "    <tr>\n",
       "      <th>3</th>\n",
       "      <td>13.84</td>\n",
       "      <td>13.94</td>\n",
       "      <td>0.8955</td>\n",
       "      <td>5.324</td>\n",
       "      <td>3.379</td>\n",
       "      <td>2.259</td>\n",
       "      <td>4.805</td>\n",
       "    </tr>\n",
       "    <tr>\n",
       "      <th>4</th>\n",
       "      <td>16.14</td>\n",
       "      <td>14.99</td>\n",
       "      <td>0.9034</td>\n",
       "      <td>5.658</td>\n",
       "      <td>3.562</td>\n",
       "      <td>1.355</td>\n",
       "      <td>5.175</td>\n",
       "    </tr>\n",
       "  </tbody>\n",
       "</table>\n",
       "</div>"
      ],
      "text/plain": [
       "      X1     X2      X3     X4     X5     X6     X7\n",
       "0  15.26  14.84  0.8710  5.763  3.312  2.221  5.220\n",
       "1  14.88  14.57  0.8811  5.554  3.333  1.018  4.956\n",
       "2  14.29  14.09  0.9050  5.291  3.337  2.699  4.825\n",
       "3  13.84  13.94  0.8955  5.324  3.379  2.259  4.805\n",
       "4  16.14  14.99  0.9034  5.658  3.562  1.355  5.175"
      ]
     },
     "execution_count": 2,
     "metadata": {},
     "output_type": "execute_result"
    }
   ],
   "source": [
    "seeds = pd.read_csv(\"/Users/brandonk87/Downloads/MSC 641/K_Means/Seeds-1.csv\")\n",
    "seeds = seeds.iloc[:,:7]\n",
    "seeds.head()"
   ]
  },
  {
   "cell_type": "markdown",
   "id": "b9e07816",
   "metadata": {},
   "source": [
    "# Question 2: Standardizing Data"
   ]
  },
  {
   "cell_type": "code",
   "execution_count": 3,
   "id": "0d929bdc",
   "metadata": {},
   "outputs": [
    {
     "name": "stderr",
     "output_type": "stream",
     "text": [
      "/Users/brandonk87/opt/anaconda3/lib/python3.9/site-packages/scipy/__init__.py:146: UserWarning: A NumPy version >=1.16.5 and <1.23.0 is required for this version of SciPy (detected version 1.24.2\n",
      "  warnings.warn(f\"A NumPy version >={np_minversion} and <{np_maxversion}\"\n"
     ]
    },
    {
     "name": "stdout",
     "output_type": "stream",
     "text": [
      "Mean: -2.6584932290343884e-16\n",
      "Variance: 1.0\n"
     ]
    }
   ],
   "source": [
    "from sklearn.preprocessing import StandardScaler\n",
    "\n",
    "scale = StandardScaler()\n",
    "data = scale.fit_transform(seeds)\n",
    "print(\"Mean:\",np.average(data))\n",
    "print(\"Variance:\",np.var(data))"
   ]
  },
  {
   "cell_type": "markdown",
   "id": "de00b60f",
   "metadata": {},
   "source": [
    "# Question 3"
   ]
  },
  {
   "cell_type": "code",
   "execution_count": 18,
   "id": "b7d6162b",
   "metadata": {},
   "outputs": [
    {
     "name": "stdout",
     "output_type": "stream",
     "text": [
      "327.7961678821159\n",
      "[[-0.14916666 -0.19785636  0.58667451 -0.3321582   0.03740134 -0.89294\n",
      "  -0.69196983]\n",
      " [ 1.482559    1.4659304   0.68260091  1.44866572  1.36495106 -0.15985907\n",
      "   1.46678666]\n",
      " [-1.19167026 -1.10323913 -1.6962422  -0.89821412 -1.40453871  0.92332354\n",
      "  -0.54377926]\n",
      " [-0.85392712 -0.8802553  -0.33021916 -0.84808522 -0.78383453  0.44362913\n",
      "  -0.71647876]\n",
      " [ 0.53542096  0.6018845   0.1691605   0.60238771  0.49823     0.15993788\n",
      "   0.62873301]]\n",
      "[0 0 0 0 0 0 0 0 4 4 4 0 0 0 0 0 0 0 0 3 0 0 0 0 0 0 3 3 0 3 0 4 3 0 0 0 4\n",
      " 4 0 3 0 0 0 4 0 0 0 0 0 0 0 4 4 0 0 0 0 0 0 3 3 3 3 3 0 0 0 0 0 3 4 4 4 1\n",
      " 4 4 4 1 1 4 4 1 1 1 1 1 1 1 1 1 1 1 1 1 1 4 1 1 1 1 4 1 1 1 1 1 1 4 1 1 1\n",
      " 1 1 1 1 1 1 1 1 1 1 1 4 1 0 1 1 1 1 4 1 1 4 4 4 0 4 4 4 4 3 3 3 3 2 2 2 3\n",
      " 3 2 2 2 2 2 2 2 3 2 2 2 3 3 2 3 2 3 3 3 2 2 2 2 2 2 2 3 2 2 2 3 3 3 3 3 3\n",
      " 2 2 2 2 3 2 3 3 2 3 3 3 3 3 0 3 0 3 3 3 3 3 3 3 3]\n",
      "(array([0, 1, 2, 3, 4], dtype=int32), array([53, 48, 31, 49, 29]))\n"
     ]
    }
   ],
   "source": [
    "from sklearn.cluster import KMeans\n",
    "\n",
    "kmean = KMeans(n_clusters=5)\n",
    "kmean.fit(data)\n",
    "\n",
    "print(kmean.inertia_)\n",
    "# intertia is distance between points and the cluster center\n",
    "# another name for it is the within cluster sum of squares\n",
    "print(kmean.cluster_centers_)\n",
    "# This gives the coordinates of each cluster center\n",
    "# remember this is in standardized form\n",
    "print(kmean.labels_)\n",
    "# labels the cluster center for each point\n",
    "print(np.unique(kmean.labels_, return_counts=True))\n",
    "# gives the total number of occurances for each cluster center"
   ]
  },
  {
   "cell_type": "markdown",
   "id": "c6c964c2",
   "metadata": {},
   "source": [
    "# Question 4"
   ]
  },
  {
   "cell_type": "code",
   "execution_count": 19,
   "id": "1ca5142f",
   "metadata": {},
   "outputs": [
    {
     "name": "stdout",
     "output_type": "stream",
     "text": [
      "326.41459772657214\n",
      "[[ 0.4698473   0.5312169   0.17808359  0.51329572  0.45393851  0.15805279\n",
      "   0.53779808]\n",
      " [-0.88842075 -0.9607571  -0.0704504  -0.99183473 -0.74245353  0.8704583\n",
      "  -0.82984876]\n",
      " [ 1.45973879  1.44753477  0.65852331  1.4395388   1.34314322 -0.15077669\n",
      "   1.45766996]\n",
      " [-0.19801702 -0.23669468  0.46970245 -0.34797176 -0.03012153 -0.93921514\n",
      "  -0.72225074]\n",
      " [-1.09871813 -1.00553354 -1.57224512 -0.79554318 -1.31266443  0.57449177\n",
      "  -0.46285764]]\n",
      "[3 3 3 3 3 3 3 3 0 0 0 3 3 3 3 3 1 3 3 1 3 3 3 3 3 3 1 3 3 3 3 0 0 3 3 3 0\n",
      " 0 3 1 3 3 3 0 3 3 3 3 3 3 3 0 0 3 3 3 3 3 3 3 1 1 1 1 3 3 3 3 3 4 2 0 0 2\n",
      " 0 0 0 2 2 0 0 2 2 2 2 2 2 2 2 2 2 2 2 2 2 0 2 2 2 2 0 2 2 2 2 2 2 0 2 2 2\n",
      " 2 2 2 2 2 2 2 2 2 2 2 0 2 3 2 2 2 2 0 2 2 0 0 0 0 2 0 0 0 4 1 1 1 4 4 4 1\n",
      " 4 4 4 4 4 4 4 4 1 4 4 4 4 4 4 1 1 3 4 4 4 4 4 1 4 4 4 1 4 4 4 4 1 1 1 1 1\n",
      " 4 4 4 1 1 4 1 1 4 1 1 1 1 4 3 1 3 1 1 1 1 4 1 4 1]\n",
      "(array([0, 1, 2, 3, 4], dtype=int32), array([29, 37, 50, 55, 39]))\n"
     ]
    }
   ],
   "source": [
    "kmean = KMeans(n_clusters=5)\n",
    "kmean.fit(data)\n",
    "\n",
    "print(kmean.inertia_)\n",
    "print(kmean.cluster_centers_)\n",
    "print(kmean.labels_)\n",
    "print(np.unique(kmean.labels_, return_counts=True))"
   ]
  },
  {
   "cell_type": "markdown",
   "id": "29562027",
   "metadata": {},
   "source": [
    "# Question 5"
   ]
  },
  {
   "cell_type": "code",
   "execution_count": 25,
   "id": "8fdf9413",
   "metadata": {},
   "outputs": [
    {
     "name": "stdout",
     "output_type": "stream",
     "text": [
      "[1470.0000000000002, 659.1717544870406, 430.65897315130064, 371.58119097155253, 327.50384374385527, 290.45324885367023, 263.1151169532842, 239.03218491723158, 221.62238695291387, 208.28900275486188, 191.46339329605058, 183.41252890348494]\n"
     ]
    }
   ],
   "source": [
    "error = []\n",
    "\n",
    "# this will use different values of K from 1 to 12\n",
    "# and add each of its intertia values to the array\n",
    "for i in range(1,13):\n",
    "    kmean = KMeans(n_clusters=i)\n",
    "    kmean.fit(data)\n",
    "    error.append(kmean.inertia_)\n",
    "print(error)"
   ]
  },
  {
   "cell_type": "code",
   "execution_count": 35,
   "id": "1ec603d8",
   "metadata": {},
   "outputs": [
    {
     "data": {
      "text/html": [
       "<div>\n",
       "<style scoped>\n",
       "    .dataframe tbody tr th:only-of-type {\n",
       "        vertical-align: middle;\n",
       "    }\n",
       "\n",
       "    .dataframe tbody tr th {\n",
       "        vertical-align: top;\n",
       "    }\n",
       "\n",
       "    .dataframe thead th {\n",
       "        text-align: right;\n",
       "    }\n",
       "</style>\n",
       "<table border=\"1\" class=\"dataframe\">\n",
       "  <thead>\n",
       "    <tr style=\"text-align: right;\">\n",
       "      <th></th>\n",
       "      <th>0</th>\n",
       "    </tr>\n",
       "  </thead>\n",
       "  <tbody>\n",
       "    <tr>\n",
       "      <th>0</th>\n",
       "      <td>1470.000000</td>\n",
       "    </tr>\n",
       "    <tr>\n",
       "      <th>1</th>\n",
       "      <td>659.171754</td>\n",
       "    </tr>\n",
       "    <tr>\n",
       "      <th>2</th>\n",
       "      <td>430.658973</td>\n",
       "    </tr>\n",
       "    <tr>\n",
       "      <th>3</th>\n",
       "      <td>371.581191</td>\n",
       "    </tr>\n",
       "    <tr>\n",
       "      <th>4</th>\n",
       "      <td>327.503844</td>\n",
       "    </tr>\n",
       "    <tr>\n",
       "      <th>5</th>\n",
       "      <td>290.453249</td>\n",
       "    </tr>\n",
       "    <tr>\n",
       "      <th>6</th>\n",
       "      <td>263.115117</td>\n",
       "    </tr>\n",
       "    <tr>\n",
       "      <th>7</th>\n",
       "      <td>239.032185</td>\n",
       "    </tr>\n",
       "    <tr>\n",
       "      <th>8</th>\n",
       "      <td>221.622387</td>\n",
       "    </tr>\n",
       "    <tr>\n",
       "      <th>9</th>\n",
       "      <td>208.289003</td>\n",
       "    </tr>\n",
       "    <tr>\n",
       "      <th>10</th>\n",
       "      <td>191.463393</td>\n",
       "    </tr>\n",
       "    <tr>\n",
       "      <th>11</th>\n",
       "      <td>183.412529</td>\n",
       "    </tr>\n",
       "  </tbody>\n",
       "</table>\n",
       "</div>"
      ],
      "text/plain": [
       "              0\n",
       "0   1470.000000\n",
       "1    659.171754\n",
       "2    430.658973\n",
       "3    371.581191\n",
       "4    327.503844\n",
       "5    290.453249\n",
       "6    263.115117\n",
       "7    239.032185\n",
       "8    221.622387\n",
       "9    208.289003\n",
       "10   191.463393\n",
       "11   183.412529"
      ]
     },
     "execution_count": 35,
     "metadata": {},
     "output_type": "execute_result"
    }
   ],
   "source": [
    "WSS_df = pd.DataFrame(error)\n",
    "WSS_df"
   ]
  },
  {
   "cell_type": "code",
   "execution_count": 36,
   "id": "1ec65e53",
   "metadata": {},
   "outputs": [
    {
     "data": {
      "text/plain": [
       "Text(0, 0.5, 'WSS')"
      ]
     },
     "execution_count": 36,
     "metadata": {},
     "output_type": "execute_result"
    },
    {
     "data": {
      "image/png": "[encoded data removed]",
      "text/plain": [
       "<Figure size 864x432 with 1 Axes>"
      ]
     },
     "metadata": {
      "needs_background": "light"
     },
     "output_type": "display_data"
    }
   ],
   "source": [
    "plt.figure(figsize=(12,6))\n",
    "plt.plot(range(1,13), error, color='lightblue',\n",
    "         linestyle='dashed', marker = 'o', \n",
    "         markerfacecolor='black', markersize=10)\n",
    "plt.title('WSS for different K values from 1 to 12')\n",
    "plt.xlabel('K values')\n",
    "plt.ylabel('WSS')"
   ]
  }
 ],
 "metadata": {
  "kernelspec": {
   "display_name": "Python 3 (ipykernel)",
   "language": "python",
   "name": "python3"
  },
  "language_info": {
   "codemirror_mode": {
    "name": "ipython",
    "version": 3
   },
   "file_extension": ".py",
   "mimetype": "text/x-python",
   "name": "python",
   "nbconvert_exporter": "python",
   "pygments_lexer": "ipython3",
   "version": "3.9.12"
  }
 },
 "nbformat": 4,
 "nbformat_minor": 5
}
