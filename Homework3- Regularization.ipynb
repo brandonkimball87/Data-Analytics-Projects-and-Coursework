{
 "cells": [
  {
   "cell_type": "code",
   "execution_count": 1,
   "id": "e4932d90",
   "metadata": {},
   "outputs": [],
   "source": [
    "import pandas as pd\n",
    "import numpy as np\n",
    "import matplotlib.pyplot as plt"
   ]
  },
  {
   "cell_type": "code",
   "execution_count": 2,
   "id": "72314d80",
   "metadata": {},
   "outputs": [
    {
     "data": {
      "text/html": [
       "<div>\n",
       "<style scoped>\n",
       "    .dataframe tbody tr th:only-of-type {\n",
       "        vertical-align: middle;\n",
       "    }\n",
       "\n",
       "    .dataframe tbody tr th {\n",
       "        vertical-align: top;\n",
       "    }\n",
       "\n",
       "    .dataframe thead th {\n",
       "        text-align: right;\n",
       "    }\n",
       "</style>\n",
       "<table border=\"1\" class=\"dataframe\">\n",
       "  <thead>\n",
       "    <tr style=\"text-align: right;\">\n",
       "      <th></th>\n",
       "      <th>Bush</th>\n",
       "      <th>UnE</th>\n",
       "      <th>Pop</th>\n",
       "      <th>Male</th>\n",
       "      <th>Male18</th>\n",
       "      <th>Pop65</th>\n",
       "      <th>NonMet</th>\n",
       "      <th>Pov</th>\n",
       "      <th>NuHouse</th>\n",
       "      <th>Inc50</th>\n",
       "      <th>Inc75</th>\n",
       "      <th>Inc100</th>\n",
       "    </tr>\n",
       "  </thead>\n",
       "  <tbody>\n",
       "    <tr>\n",
       "      <th>0</th>\n",
       "      <td>56.47</td>\n",
       "      <td>4.6</td>\n",
       "      <td>4447100</td>\n",
       "      <td>48.27</td>\n",
       "      <td>47.26</td>\n",
       "      <td>13.0</td>\n",
       "      <td>32.68</td>\n",
       "      <td>16.1</td>\n",
       "      <td>1472906</td>\n",
       "      <td>14.3</td>\n",
       "      <td>4.3</td>\n",
       "      <td>2.0</td>\n",
       "    </tr>\n",
       "    <tr>\n",
       "      <th>1</th>\n",
       "      <td>58.62</td>\n",
       "      <td>6.6</td>\n",
       "      <td>626932</td>\n",
       "      <td>51.69</td>\n",
       "      <td>51.83</td>\n",
       "      <td>5.7</td>\n",
       "      <td>58.48</td>\n",
       "      <td>9.4</td>\n",
       "      <td>85359</td>\n",
       "      <td>36.3</td>\n",
       "      <td>16.8</td>\n",
       "      <td>6.9</td>\n",
       "    </tr>\n",
       "    <tr>\n",
       "      <th>2</th>\n",
       "      <td>51.02</td>\n",
       "      <td>3.9</td>\n",
       "      <td>5130632</td>\n",
       "      <td>49.92</td>\n",
       "      <td>49.42</td>\n",
       "      <td>13.0</td>\n",
       "      <td>14.03</td>\n",
       "      <td>13.9</td>\n",
       "      <td>1571330</td>\n",
       "      <td>11.0</td>\n",
       "      <td>4.2</td>\n",
       "      <td>1.8</td>\n",
       "    </tr>\n",
       "    <tr>\n",
       "      <th>3</th>\n",
       "      <td>51.31</td>\n",
       "      <td>4.4</td>\n",
       "      <td>2673400</td>\n",
       "      <td>48.80</td>\n",
       "      <td>47.94</td>\n",
       "      <td>14.0</td>\n",
       "      <td>53.66</td>\n",
       "      <td>15.8</td>\n",
       "      <td>836388</td>\n",
       "      <td>10.0</td>\n",
       "      <td>2.9</td>\n",
       "      <td>1.6</td>\n",
       "    </tr>\n",
       "    <tr>\n",
       "      <th>4</th>\n",
       "      <td>41.65</td>\n",
       "      <td>4.9</td>\n",
       "      <td>33871648</td>\n",
       "      <td>49.82</td>\n",
       "      <td>49.26</td>\n",
       "      <td>10.6</td>\n",
       "      <td>3.31</td>\n",
       "      <td>14.2</td>\n",
       "      <td>9709296</td>\n",
       "      <td>23.1</td>\n",
       "      <td>10.0</td>\n",
       "      <td>4.4</td>\n",
       "    </tr>\n",
       "  </tbody>\n",
       "</table>\n",
       "</div>"
      ],
      "text/plain": [
       "    Bush  UnE       Pop   Male  Male18  Pop65  NonMet   Pov  NuHouse  Inc50  \\\n",
       "0  56.47  4.6   4447100  48.27   47.26   13.0   32.68  16.1  1472906   14.3   \n",
       "1  58.62  6.6    626932  51.69   51.83    5.7   58.48   9.4    85359   36.3   \n",
       "2  51.02  3.9   5130632  49.92   49.42   13.0   14.03  13.9  1571330   11.0   \n",
       "3  51.31  4.4   2673400  48.80   47.94   14.0   53.66  15.8   836388   10.0   \n",
       "4  41.65  4.9  33871648  49.82   49.26   10.6    3.31  14.2  9709296   23.1   \n",
       "\n",
       "   Inc75  Inc100  \n",
       "0    4.3     2.0  \n",
       "1   16.8     6.9  \n",
       "2    4.2     1.8  \n",
       "3    2.9     1.6  \n",
       "4   10.0     4.4  "
      ]
     },
     "execution_count": 2,
     "metadata": {},
     "output_type": "execute_result"
    }
   ],
   "source": [
    "election = pd.read_csv('/Users/brandonk87/Downloads/MSC 641/Regularization/election2000.csv')\n",
    "election.head()"
   ]
  },
  {
   "cell_type": "markdown",
   "id": "b133b105",
   "metadata": {},
   "source": [
    "# Question 1"
   ]
  },
  {
   "cell_type": "code",
   "execution_count": 3,
   "id": "405866d2",
   "metadata": {},
   "outputs": [
    {
     "name": "stderr",
     "output_type": "stream",
     "text": [
      "/Users/brandonk87/opt/anaconda3/lib/python3.9/site-packages/scipy/__init__.py:146: UserWarning: A NumPy version >=1.16.5 and <1.23.0 is required for this version of SciPy (detected version 1.24.2\n",
      "  warnings.warn(f\"A NumPy version >={np_minversion} and <{np_maxversion}\"\n"
     ]
    }
   ],
   "source": [
    "from sklearn.model_selection import train_test_split\n",
    "y = election[['Bush']]\n",
    "x = election.iloc[:,1:]\n",
    "x_train, x_test, y_train, y_test = train_test_split(x, y, test_size=0.20, random_state=13)"
   ]
  },
  {
   "cell_type": "markdown",
   "id": "5a7d7704",
   "metadata": {},
   "source": [
    "# Question 2"
   ]
  },
  {
   "cell_type": "code",
   "execution_count": 4,
   "id": "7151f6ba",
   "metadata": {},
   "outputs": [
    {
     "name": "stdout",
     "output_type": "stream",
     "text": [
      "                            OLS Regression Results                            \n",
      "==============================================================================\n",
      "Dep. Variable:                   Bush   R-squared:                       0.811\n",
      "Model:                            OLS   Adj. R-squared:                  0.737\n",
      "Method:                 Least Squares   F-statistic:                     10.93\n",
      "Date:                Fri, 17 Feb 2023   Prob (F-statistic):           1.87e-07\n",
      "Time:                        10:29:16   Log-Likelihood:                -118.58\n",
      "No. Observations:                  40   AIC:                             261.2\n",
      "Df Residuals:                      28   BIC:                             281.4\n",
      "Df Model:                          11                                         \n",
      "Covariance Type:            nonrobust                                         \n",
      "==============================================================================\n",
      "                 coef    std err          t      P>|t|      [0.025      0.975]\n",
      "------------------------------------------------------------------------------\n",
      "const       -599.3349    214.124     -2.799      0.009   -1037.949    -160.721\n",
      "UnE           -1.4462      1.367     -1.058      0.299      -4.247       1.355\n",
      "Pop         1.813e-06   1.03e-06      1.761      0.089   -2.96e-07    3.92e-06\n",
      "Male          42.5302     16.290      2.611      0.014       9.162      75.898\n",
      "Male18       -29.6323     12.710     -2.331      0.027     -55.667      -3.598\n",
      "Pop65         -0.7459      0.660     -1.130      0.268      -2.098       0.607\n",
      "NonMet         0.2148      0.077      2.782      0.010       0.057       0.373\n",
      "Pov            0.5620      0.663      0.847      0.404      -0.796       1.920\n",
      "NuHouse    -3.289e-06   2.61e-06     -1.261      0.218   -8.63e-06    2.05e-06\n",
      "Inc50         -0.5754      0.983     -0.585      0.563      -2.589       1.438\n",
      "Inc75          2.8017      2.258      1.241      0.225      -1.823       7.426\n",
      "Inc100        -5.5023      2.506     -2.195      0.037     -10.636      -0.368\n",
      "==============================================================================\n",
      "Omnibus:                        0.693   Durbin-Watson:                   1.462\n",
      "Prob(Omnibus):                  0.707   Jarque-Bera (JB):                0.710\n",
      "Skew:                           0.005   Prob(JB):                        0.701\n",
      "Kurtosis:                       2.347   Cond. No.                     1.88e+09\n",
      "==============================================================================\n",
      "\n",
      "Notes:\n",
      "[1] Standard Errors assume that the covariance matrix of the errors is correctly specified.\n",
      "[2] The condition number is large, 1.88e+09. This might indicate that there are\n",
      "strong multicollinearity or other numerical problems.\n"
     ]
    }
   ],
   "source": [
    "import statsmodels.api as sm\n",
    "lm = sm.OLS(y_train, sm.add_constant(x_train)).fit()\n",
    "print(lm.summary())"
   ]
  },
  {
   "cell_type": "code",
   "execution_count": 5,
   "id": "bc627cee",
   "metadata": {},
   "outputs": [
    {
     "data": {
      "text/plain": [
       "22.0016674800812"
      ]
     },
     "execution_count": 5,
     "metadata": {},
     "output_type": "execute_result"
    }
   ],
   "source": [
    "from sklearn.metrics import mean_squared_error\n",
    "x_train_predicted = lm.predict(sm.add_constant(x_train))\n",
    "OLS_MSE_train = mean_squared_error(y_train, x_train_predicted)\n",
    "OLS_MSE_train"
   ]
  },
  {
   "cell_type": "code",
   "execution_count": 6,
   "id": "d432c6c8",
   "metadata": {
    "scrolled": true
   },
   "outputs": [
    {
     "data": {
      "text/plain": [
       "116.98775766952052"
      ]
     },
     "execution_count": 6,
     "metadata": {},
     "output_type": "execute_result"
    }
   ],
   "source": [
    "x_test_predicted = lm.predict(sm.add_constant(x_test))\n",
    "OLS_MSE_test = mean_squared_error(y_test, x_test_predicted)\n",
    "OLS_MSE_test"
   ]
  },
  {
   "cell_type": "markdown",
   "id": "2376dac3",
   "metadata": {},
   "source": [
    "# Question 3"
   ]
  },
  {
   "cell_type": "code",
   "execution_count": 7,
   "id": "b8b4562c",
   "metadata": {},
   "outputs": [],
   "source": [
    "from sklearn.preprocessing import StandardScaler\n",
    "scale = StandardScaler()\n",
    "x_train = scale.fit_transform(x_train)\n",
    "x_test = scale.transform(x_test)"
   ]
  },
  {
   "cell_type": "code",
   "execution_count": 8,
   "id": "18158551",
   "metadata": {},
   "outputs": [
    {
     "name": "stderr",
     "output_type": "stream",
     "text": [
      "/Users/brandonk87/opt/anaconda3/lib/python3.9/site-packages/sklearn/linear_model/_coordinate_descent.py:1614: DataConversionWarning: A column-vector y was passed when a 1d array was expected. Please change the shape of y to (n_samples, ), for example using ravel().\n",
      "  y = column_or_1d(y, warn=True)\n"
     ]
    },
    {
     "name": "stdout",
     "output_type": "stream",
     "text": [
      "The optimal lambda is: 2.217626713368522\n",
      "UnE       -0.000000\n",
      "Pop        0.000000\n",
      "Male       3.133894\n",
      "Male18     0.000000\n",
      "Pop65     -0.000000\n",
      "NonMet     1.616390\n",
      "Pov        0.000000\n",
      "NuHouse    0.000000\n",
      "Inc50     -0.000000\n",
      "Inc75     -0.000000\n",
      "Inc100    -2.888002\n",
      "dtype: float64\n"
     ]
    }
   ],
   "source": [
    "from sklearn.linear_model import Lasso, LassoCV\n",
    "\n",
    "lassocv = LassoCV(alphas = None, cv = 5, max_iter = 100000)\n",
    "# creates the lasso function\n",
    "# using LassoCV, it has cross validation built in\n",
    "# alpha is None becuase we aren't using a prespecified alpha,\n",
    "## but are letting the CV find the optimal alpha\n",
    "\n",
    "lassocv.fit(x_train, y_train)\n",
    "# applying cv lasso function to the train data\n",
    "\n",
    "lasso = Lasso(max_iter = 100000)\n",
    "# creates the new lasso function we will use\n",
    "lasso.set_params(alpha=lassocv.alpha_)\n",
    "# makes the lasso function have the optimal lambda value\n",
    "\n",
    "lasso.fit(x_train, y_train)\n",
    "# applying optimal lambda lasso function on train data\n",
    "\n",
    "lasso.coef = pd.Series(lasso.coef_, index=election.iloc[:,1:].columns)\n",
    "# makes df of the coefficents and their names\n",
    "\n",
    "print(\"The optimal lambda is:\", lassocv.alpha_)\n",
    "print(lasso.coef)"
   ]
  },
  {
   "cell_type": "code",
   "execution_count": 9,
   "id": "f68bde4a",
   "metadata": {},
   "outputs": [
    {
     "data": {
      "text/plain": [
       "48.66377290947794"
      ]
     },
     "execution_count": 9,
     "metadata": {},
     "output_type": "execute_result"
    }
   ],
   "source": [
    "lasso_predicted_train = lasso.predict(x_train)\n",
    "lasso_MSE_train = mean_squared_error(y_train, lasso_predicted_train)\n",
    "lasso_MSE_train"
   ]
  },
  {
   "cell_type": "code",
   "execution_count": 10,
   "id": "3423fc44",
   "metadata": {},
   "outputs": [
    {
     "data": {
      "text/plain": [
       "43.528451396211814"
      ]
     },
     "execution_count": 10,
     "metadata": {},
     "output_type": "execute_result"
    }
   ],
   "source": [
    "lasso_predicted_test = lasso.predict(x_test)\n",
    "lasso_MSE_test = mean_squared_error(y_test, lasso_predicted_test)\n",
    "lasso_MSE_test"
   ]
  },
  {
   "cell_type": "markdown",
   "id": "333809a1",
   "metadata": {},
   "source": [
    "# Question 4"
   ]
  },
  {
   "cell_type": "code",
   "execution_count": 11,
   "id": "51ba286b",
   "metadata": {},
   "outputs": [
    {
     "data": {
      "text/plain": [
       "UnE       -0.886076\n",
       "Pop        1.521465\n",
       "Male       2.367292\n",
       "Male18     1.479177\n",
       "Pop65     -1.041412\n",
       "NonMet     3.460862\n",
       "Pov        0.027270\n",
       "NuHouse    0.764344\n",
       "Inc50     -0.714634\n",
       "Inc75     -1.070209\n",
       "Inc100    -2.248464\n",
       "dtype: float64"
      ]
     },
     "execution_count": 11,
     "metadata": {},
     "output_type": "execute_result"
    }
   ],
   "source": [
    "from sklearn.linear_model import Ridge, RidgeCV\n",
    "ridgecv = RidgeCV(cv = 5)\n",
    "# creates the cross validation ridge function\n",
    "ridgecv.fit(x_train, y_train)\n",
    "# applies the cv ridge function to train data\n",
    "ridge = Ridge(max_iter = 10000)\n",
    "ridge.set_params(alpha=ridgecv.alpha_)\n",
    "# creates a new ridge function using the optimal value of lambda\n",
    "ridge.fit(x_train, y_train)\n",
    "# applies optimal ridge function to train data \n",
    "\n",
    "ridge.coef_ = np.swapaxes(ridge.coef_,0,1)\n",
    "ridge.coef_ = ridge.coef_.flatten()\n",
    "# for some reason the ridge function makes a 2D array\n",
    "# so we need to make it into a 1D for it to work\n",
    "\n",
    "pd.Series(ridge.coef_, index=election.iloc[:,1:].columns)\n",
    "# makes a df of the coefficents and their names"
   ]
  },
  {
   "cell_type": "code",
   "execution_count": 12,
   "id": "9a0aa438",
   "metadata": {
    "scrolled": true
   },
   "outputs": [
    {
     "name": "stdout",
     "output_type": "stream",
     "text": [
      "The optimal lambda is: 10.0\n"
     ]
    }
   ],
   "source": [
    "print(\"The optimal lambda is:\", ridgecv.alpha_)"
   ]
  },
  {
   "cell_type": "code",
   "execution_count": 13,
   "id": "44132c93",
   "metadata": {},
   "outputs": [
    {
     "data": {
      "text/plain": [
       "33.78473414498601"
      ]
     },
     "execution_count": 13,
     "metadata": {},
     "output_type": "execute_result"
    }
   ],
   "source": [
    "ridge_predicted_train = ridge.predict(x_train)\n",
    "ridge_MSE_train = mean_squared_error(y_train, ridge_predicted_train)\n",
    "ridge_MSE_train"
   ]
  },
  {
   "cell_type": "code",
   "execution_count": 14,
   "id": "1ee6bf27",
   "metadata": {},
   "outputs": [
    {
     "data": {
      "text/plain": [
       "62.467251845476135"
      ]
     },
     "execution_count": 14,
     "metadata": {},
     "output_type": "execute_result"
    }
   ],
   "source": [
    "ridge_predicted_test = ridge.predict(x_test)\n",
    "ridge_MSE_test = mean_squared_error(y_test, ridge_predicted_test)\n",
    "ridge_MSE_test"
   ]
  },
  {
   "cell_type": "markdown",
   "id": "780848c2",
   "metadata": {},
   "source": [
    "# Question 5"
   ]
  },
  {
   "cell_type": "code",
   "execution_count": 15,
   "id": "fe3d5ec4",
   "metadata": {},
   "outputs": [
    {
     "name": "stdout",
     "output_type": "stream",
     "text": [
      "OLS MSE Train: 22.0016674800812\n",
      "OLS MSE Test: 116.98775766952052\n",
      "Lasso MSE Train: 48.66377290947794\n",
      "Lasso MSE Test: 43.528451396211814\n",
      "Ridge MSE Train: 33.78473414498601\n",
      "Ridge MSE Test: 62.467251845476135\n"
     ]
    }
   ],
   "source": [
    "print('OLS MSE Train:',OLS_MSE_train)\n",
    "print('OLS MSE Test:',OLS_MSE_test)\n",
    "\n",
    "print('Lasso MSE Train:',lasso_MSE_train)\n",
    "print('Lasso MSE Test:',lasso_MSE_test)\n",
    "\n",
    "print('Ridge MSE Train:',ridge_MSE_train)\n",
    "print('Ridge MSE Test:',ridge_MSE_test)"
   ]
  }
 ],
 "metadata": {
  "kernelspec": {
   "display_name": "Python 3 (ipykernel)",
   "language": "python",
   "name": "python3"
  },
  "language_info": {
   "codemirror_mode": {
    "name": "ipython",
    "version": 3
   },
   "file_extension": ".py",
   "mimetype": "text/x-python",
   "name": "python",
   "nbconvert_exporter": "python",
   "pygments_lexer": "ipython3",
   "version": "3.9.12"
  }
 },
 "nbformat": 4,
 "nbformat_minor": 5
}
